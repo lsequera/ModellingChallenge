{
 "cells": [
  {
   "attachments": {},
   "cell_type": "markdown",
   "metadata": {},
   "source": [
    "## Challenge (Modelling)"
   ]
  },
  {
   "cell_type": "code",
   "execution_count": 1,
   "metadata": {},
   "outputs": [],
   "source": [
    "# Libraries for path management and data analysis\n",
    "import os\n",
    "import pandas as pd"
   ]
  },
  {
   "cell_type": "code",
   "execution_count": 2,
   "metadata": {},
   "outputs": [],
   "source": [
    "# Going to the root of the project\n",
    "os.chdir('..')"
   ]
  },
  {
   "cell_type": "code",
   "execution_count": 3,
   "metadata": {},
   "outputs": [
    {
     "name": "stderr",
     "output_type": "stream",
     "text": [
      "/tmp/ipykernel_23874/851070366.py:1: DtypeWarning: Columns (20) have mixed types. Specify dtype option on import or set low_memory=False.\n",
      "  data = pd.read_csv('data/application_info.csv')\n"
     ]
    }
   ],
   "source": [
    "data = pd.read_csv('data/application_info.csv')"
   ]
  },
  {
   "cell_type": "code",
   "execution_count": 4,
   "metadata": {},
   "outputs": [
    {
     "name": "stdout",
     "output_type": "stream",
     "text": [
      "<class 'pandas.core.frame.DataFrame'>\n",
      "RangeIndex: 307511 entries, 0 to 307510\n",
      "Data columns (total 98 columns):\n",
      " #   Column                     Non-Null Count   Dtype  \n",
      "---  ------                     --------------   -----  \n",
      " 0   Unnamed: 0                 307511 non-null  int64  \n",
      " 1   id                         307511 non-null  int64  \n",
      " 2   default                    307511 non-null  int64  \n",
      " 3   contract_type              307511 non-null  object \n",
      " 4   gender                     307511 non-null  object \n",
      " 5   flag_vehicle               307511 non-null  object \n",
      " 6   flag_properties            307511 non-null  object \n",
      " 7   num_children               307511 non-null  int64  \n",
      " 8   total_income               307511 non-null  object \n",
      " 9   loan_amount                307511 non-null  object \n",
      " 10  anual_payment              307499 non-null  object \n",
      " 11  product_amount             307233 non-null  object \n",
      " 12  accompained                306219 non-null  object \n",
      " 13  income_type                307511 non-null  object \n",
      " 14  education                  0 non-null       float64\n",
      " 15  marital_status             307511 non-null  object \n",
      " 16  residence_type             0 non-null       float64\n",
      " 17  normalised_pop             307511 non-null  object \n",
      " 18  age                        307511 non-null  int64  \n",
      " 19  work_age                   307511 non-null  int64  \n",
      " 20  registry_age               307511 non-null  object \n",
      " 21  id_age                     307511 non-null  int64  \n",
      " 22  vehicle_age                104582 non-null  float64\n",
      " 23  flag_cellphone             307511 non-null  int64  \n",
      " 24  flag_work_phone            307511 non-null  int64  \n",
      " 25  flag_work_company          307511 non-null  int64  \n",
      " 26  flag_cellphone_answer      307511 non-null  int64  \n",
      " 27  flag_homephone             307511 non-null  int64  \n",
      " 28  flag_email                 307511 non-null  int64  \n",
      " 29  occupation                 211120 non-null  object \n",
      " 30  family_num                 307509 non-null  float64\n",
      " 31  region_score               307511 non-null  int64  \n",
      " 32  region_city_score          307511 non-null  int64  \n",
      " 33  dayofweek_application      307511 non-null  object \n",
      " 34  hour_application           307511 non-null  int64  \n",
      " 35  flag_direperm_direcon_reg  307511 non-null  int64  \n",
      " 36  flag_direperm_diretra_reg  307511 non-null  int64  \n",
      " 37  flag_direcon_diretra_reg   307511 non-null  int64  \n",
      " 38  flag_direperm_direcon_ciu  307511 non-null  int64  \n",
      " 39  flag_direperm_diretra_ciu  307511 non-null  int64  \n",
      " 40  flag_direcon_diretra_ciu   307511 non-null  int64  \n",
      " 41  type_organisation          307511 non-null  object \n",
      " 42  external_score_1           134133 non-null  object \n",
      " 43  external_score_2           306851 non-null  object \n",
      " 44  external_score_3           246546 non-null  object \n",
      " 45  num_apart_average          151450 non-null  object \n",
      " 46  area_basement_average      127568 non-null  object \n",
      " 47  age_expl_average           157504 non-null  object \n",
      " 48  age_building_average       103023 non-null  object \n",
      " 49  area_common_average        92646 non-null   object \n",
      " 50  num_lifts_average          143620 non-null  object \n",
      " 51  num_entries_average        152683 non-null  object \n",
      " 52  max_floor_average          154491 non-null  object \n",
      " 53  min_floor_average          98869 non-null   object \n",
      " 54  area_building_average      124921 non-null  object \n",
      " 55  num_apart_habit_average    97312 non-null   object \n",
      " 56  area_habit_average         153161 non-null  object \n",
      " 57  num_apart_nohabit_average  93997 non-null   object \n",
      " 58  area_nohabit_average       137829 non-null  object \n",
      " 59  num_apart_mode             151450 non-null  object \n",
      " 60  area_basement_mode         127568 non-null  object \n",
      " 61  age_expl_mode              157504 non-null  object \n",
      " 62  age_building_mode          103023 non-null  object \n",
      " 63  area_common_mode           92646 non-null   object \n",
      " 64  num_lifts_mode             143620 non-null  object \n",
      " 65  num_entries_mode           152683 non-null  object \n",
      " 66  max_floor_mode             154491 non-null  object \n",
      " 67  min_floor_mode             98869 non-null   object \n",
      " 68  area_building_mode         124921 non-null  object \n",
      " 69  num_apart_habit_mode       97312 non-null   object \n",
      " 70  area_habit_mode            153161 non-null  object \n",
      " 71  num_apart_nohabit_mode     93997 non-null   object \n",
      " 72  area_nohabit_mode          137829 non-null  object \n",
      " 73  num_apart_median           151450 non-null  object \n",
      " 74  area_basement_median       127568 non-null  object \n",
      " 75  age_expl_median            157504 non-null  object \n",
      " 76  age_building_median        103023 non-null  object \n",
      " 77  area_common_median         92646 non-null   object \n",
      " 78  num_lifts_median           143620 non-null  object \n",
      " 79  num_entries_median         152683 non-null  object \n",
      " 80  max_floor_median           154491 non-null  object \n",
      " 81  min_floor_median           98869 non-null   object \n",
      " 82  area_building_median       124921 non-null  object \n",
      " 83  num_apart_habit_median     97312 non-null   object \n",
      " 84  area_habit_median          153161 non-null  object \n",
      " 85  num_apart_nohabit_median   93997 non-null   object \n",
      " 86  area_nohabit_median        137829 non-null  object \n",
      " 87  type_building              153214 non-null  object \n",
      " 88  total_area                 159080 non-null  object \n",
      " 89  wall_materials             151170 non-null  object \n",
      " 90  emergency_exits            161756 non-null  object \n",
      " 91  age_mobilephone_days       307510 non-null  float64\n",
      " 92  num_petic_bureau_hour      265992 non-null  float64\n",
      " 93  num_petic_bureau_day       265992 non-null  float64\n",
      " 94  num_petic_bureau_week      265992 non-null  float64\n",
      " 95  num_petic_bureau_month     265992 non-null  float64\n",
      " 96  num_petic_bureau_quarter   265992 non-null  float64\n",
      " 97  num_petic_bureau_year      265992 non-null  float64\n",
      "dtypes: float64(11), int64(22), object(65)\n",
      "memory usage: 229.9+ MB\n"
     ]
    }
   ],
   "source": [
    "data.info()"
   ]
  },
  {
   "cell_type": "code",
   "execution_count": 5,
   "metadata": {},
   "outputs": [
    {
     "data": {
      "text/plain": [
       "['Unnamed: 0',\n",
       " 'id',\n",
       " 'default',\n",
       " 'contract_type',\n",
       " 'gender',\n",
       " 'flag_vehicle',\n",
       " 'flag_properties',\n",
       " 'num_children',\n",
       " 'total_income',\n",
       " 'loan_amount',\n",
       " 'anual_payment',\n",
       " 'product_amount',\n",
       " 'accompained',\n",
       " 'income_type',\n",
       " 'education',\n",
       " 'marital_status',\n",
       " 'residence_type',\n",
       " 'normalised_pop',\n",
       " 'age',\n",
       " 'work_age',\n",
       " 'registry_age',\n",
       " 'id_age',\n",
       " 'vehicle_age',\n",
       " 'flag_cellphone',\n",
       " 'flag_work_phone',\n",
       " 'flag_work_company',\n",
       " 'flag_cellphone_answer',\n",
       " 'flag_homephone',\n",
       " 'flag_email',\n",
       " 'occupation',\n",
       " 'family_num',\n",
       " 'region_score',\n",
       " 'region_city_score',\n",
       " 'dayofweek_application',\n",
       " 'hour_application',\n",
       " 'flag_direperm_direcon_reg',\n",
       " 'flag_direperm_diretra_reg',\n",
       " 'flag_direcon_diretra_reg',\n",
       " 'flag_direperm_direcon_ciu',\n",
       " 'flag_direperm_diretra_ciu',\n",
       " 'flag_direcon_diretra_ciu',\n",
       " 'type_organisation',\n",
       " 'external_score_1',\n",
       " 'external_score_2',\n",
       " 'external_score_3',\n",
       " 'num_apart_average',\n",
       " 'area_basement_average',\n",
       " 'age_expl_average',\n",
       " 'age_building_average',\n",
       " 'area_common_average',\n",
       " 'num_lifts_average',\n",
       " 'num_entries_average',\n",
       " 'max_floor_average',\n",
       " 'min_floor_average',\n",
       " 'area_building_average',\n",
       " 'num_apart_habit_average',\n",
       " 'area_habit_average',\n",
       " 'num_apart_nohabit_average',\n",
       " 'area_nohabit_average',\n",
       " 'num_apart_mode',\n",
       " 'area_basement_mode',\n",
       " 'age_expl_mode',\n",
       " 'age_building_mode',\n",
       " 'area_common_mode',\n",
       " 'num_lifts_mode',\n",
       " 'num_entries_mode',\n",
       " 'max_floor_mode',\n",
       " 'min_floor_mode',\n",
       " 'area_building_mode',\n",
       " 'num_apart_habit_mode',\n",
       " 'area_habit_mode',\n",
       " 'num_apart_nohabit_mode',\n",
       " 'area_nohabit_mode',\n",
       " 'num_apart_median',\n",
       " 'area_basement_median',\n",
       " 'age_expl_median',\n",
       " 'age_building_median',\n",
       " 'area_common_median',\n",
       " 'num_lifts_median',\n",
       " 'num_entries_median',\n",
       " 'max_floor_median',\n",
       " 'min_floor_median',\n",
       " 'area_building_median',\n",
       " 'num_apart_habit_median',\n",
       " 'area_habit_median',\n",
       " 'num_apart_nohabit_median',\n",
       " 'area_nohabit_median',\n",
       " 'type_building',\n",
       " 'total_area',\n",
       " 'wall_materials',\n",
       " 'emergency_exits',\n",
       " 'age_mobilephone_days',\n",
       " 'num_petic_bureau_hour',\n",
       " 'num_petic_bureau_day',\n",
       " 'num_petic_bureau_week',\n",
       " 'num_petic_bureau_month',\n",
       " 'num_petic_bureau_quarter',\n",
       " 'num_petic_bureau_year']"
      ]
     },
     "execution_count": 5,
     "metadata": {},
     "output_type": "execute_result"
    }
   ],
   "source": [
    "features = list(data.columns)\n",
    "features"
   ]
  },
  {
   "cell_type": "code",
   "execution_count": 6,
   "metadata": {},
   "outputs": [],
   "source": [
    "data = data.drop(['Unnamed: 0','id','education','residence_type'], axis=1)"
   ]
  },
  {
   "cell_type": "code",
   "execution_count": 7,
   "metadata": {},
   "outputs": [
    {
     "data": {
      "text/html": [
       "<div>\n",
       "<style scoped>\n",
       "    .dataframe tbody tr th:only-of-type {\n",
       "        vertical-align: middle;\n",
       "    }\n",
       "\n",
       "    .dataframe tbody tr th {\n",
       "        vertical-align: top;\n",
       "    }\n",
       "\n",
       "    .dataframe thead th {\n",
       "        text-align: right;\n",
       "    }\n",
       "</style>\n",
       "<table border=\"1\" class=\"dataframe\">\n",
       "  <thead>\n",
       "    <tr style=\"text-align: right;\">\n",
       "      <th></th>\n",
       "      <th>default</th>\n",
       "      <th>contract_type</th>\n",
       "      <th>gender</th>\n",
       "      <th>flag_vehicle</th>\n",
       "      <th>flag_properties</th>\n",
       "      <th>num_children</th>\n",
       "      <th>total_income</th>\n",
       "      <th>loan_amount</th>\n",
       "      <th>anual_payment</th>\n",
       "      <th>product_amount</th>\n",
       "      <th>...</th>\n",
       "      <th>total_area</th>\n",
       "      <th>wall_materials</th>\n",
       "      <th>emergency_exits</th>\n",
       "      <th>age_mobilephone_days</th>\n",
       "      <th>num_petic_bureau_hour</th>\n",
       "      <th>num_petic_bureau_day</th>\n",
       "      <th>num_petic_bureau_week</th>\n",
       "      <th>num_petic_bureau_month</th>\n",
       "      <th>num_petic_bureau_quarter</th>\n",
       "      <th>num_petic_bureau_year</th>\n",
       "    </tr>\n",
       "  </thead>\n",
       "  <tbody>\n",
       "    <tr>\n",
       "      <th>0</th>\n",
       "      <td>1</td>\n",
       "      <td>personal loan</td>\n",
       "      <td>M</td>\n",
       "      <td>N</td>\n",
       "      <td>Y</td>\n",
       "      <td>0</td>\n",
       "      <td>202500</td>\n",
       "      <td>406597,5</td>\n",
       "      <td>24700,5</td>\n",
       "      <td>351000</td>\n",
       "      <td>...</td>\n",
       "      <td>0,0149</td>\n",
       "      <td>brick</td>\n",
       "      <td>N</td>\n",
       "      <td>-1134.0</td>\n",
       "      <td>0.0</td>\n",
       "      <td>0.0</td>\n",
       "      <td>0.0</td>\n",
       "      <td>0.0</td>\n",
       "      <td>0.0</td>\n",
       "      <td>1.0</td>\n",
       "    </tr>\n",
       "    <tr>\n",
       "      <th>1</th>\n",
       "      <td>0</td>\n",
       "      <td>personal loan</td>\n",
       "      <td>F</td>\n",
       "      <td>N</td>\n",
       "      <td>N</td>\n",
       "      <td>0</td>\n",
       "      <td>270000</td>\n",
       "      <td>1293502,5</td>\n",
       "      <td>35698,5</td>\n",
       "      <td>1129500</td>\n",
       "      <td>...</td>\n",
       "      <td>0,0714</td>\n",
       "      <td>concrete</td>\n",
       "      <td>N</td>\n",
       "      <td>-828.0</td>\n",
       "      <td>0.0</td>\n",
       "      <td>0.0</td>\n",
       "      <td>0.0</td>\n",
       "      <td>0.0</td>\n",
       "      <td>0.0</td>\n",
       "      <td>0.0</td>\n",
       "    </tr>\n",
       "    <tr>\n",
       "      <th>2</th>\n",
       "      <td>0</td>\n",
       "      <td>credit card</td>\n",
       "      <td>M</td>\n",
       "      <td>Y</td>\n",
       "      <td>Y</td>\n",
       "      <td>0</td>\n",
       "      <td>67500</td>\n",
       "      <td>135000</td>\n",
       "      <td>6750</td>\n",
       "      <td>135000</td>\n",
       "      <td>...</td>\n",
       "      <td>NaN</td>\n",
       "      <td>NaN</td>\n",
       "      <td>NaN</td>\n",
       "      <td>-815.0</td>\n",
       "      <td>0.0</td>\n",
       "      <td>0.0</td>\n",
       "      <td>0.0</td>\n",
       "      <td>0.0</td>\n",
       "      <td>0.0</td>\n",
       "      <td>0.0</td>\n",
       "    </tr>\n",
       "    <tr>\n",
       "      <th>3</th>\n",
       "      <td>0</td>\n",
       "      <td>personal loan</td>\n",
       "      <td>F</td>\n",
       "      <td>N</td>\n",
       "      <td>Y</td>\n",
       "      <td>0</td>\n",
       "      <td>135000</td>\n",
       "      <td>312682,5</td>\n",
       "      <td>29686,5</td>\n",
       "      <td>297000</td>\n",
       "      <td>...</td>\n",
       "      <td>NaN</td>\n",
       "      <td>NaN</td>\n",
       "      <td>NaN</td>\n",
       "      <td>-617.0</td>\n",
       "      <td>NaN</td>\n",
       "      <td>NaN</td>\n",
       "      <td>NaN</td>\n",
       "      <td>NaN</td>\n",
       "      <td>NaN</td>\n",
       "      <td>NaN</td>\n",
       "    </tr>\n",
       "    <tr>\n",
       "      <th>4</th>\n",
       "      <td>0</td>\n",
       "      <td>personal loan</td>\n",
       "      <td>M</td>\n",
       "      <td>N</td>\n",
       "      <td>Y</td>\n",
       "      <td>0</td>\n",
       "      <td>121500</td>\n",
       "      <td>513000</td>\n",
       "      <td>21865,5</td>\n",
       "      <td>513000</td>\n",
       "      <td>...</td>\n",
       "      <td>NaN</td>\n",
       "      <td>NaN</td>\n",
       "      <td>NaN</td>\n",
       "      <td>-1106.0</td>\n",
       "      <td>0.0</td>\n",
       "      <td>0.0</td>\n",
       "      <td>0.0</td>\n",
       "      <td>0.0</td>\n",
       "      <td>0.0</td>\n",
       "      <td>0.0</td>\n",
       "    </tr>\n",
       "  </tbody>\n",
       "</table>\n",
       "<p>5 rows × 94 columns</p>\n",
       "</div>"
      ],
      "text/plain": [
       "   default  contract_type gender flag_vehicle flag_properties  num_children  \\\n",
       "0        1  personal loan      M            N               Y             0   \n",
       "1        0  personal loan      F            N               N             0   \n",
       "2        0    credit card      M            Y               Y             0   \n",
       "3        0  personal loan      F            N               Y             0   \n",
       "4        0  personal loan      M            N               Y             0   \n",
       "\n",
       "  total_income loan_amount anual_payment product_amount  ... total_area  \\\n",
       "0       202500    406597,5       24700,5         351000  ...     0,0149   \n",
       "1       270000   1293502,5       35698,5        1129500  ...     0,0714   \n",
       "2        67500      135000          6750         135000  ...        NaN   \n",
       "3       135000    312682,5       29686,5         297000  ...        NaN   \n",
       "4       121500      513000       21865,5         513000  ...        NaN   \n",
       "\n",
       "  wall_materials emergency_exits age_mobilephone_days  num_petic_bureau_hour  \\\n",
       "0          brick               N              -1134.0                    0.0   \n",
       "1       concrete               N               -828.0                    0.0   \n",
       "2            NaN             NaN               -815.0                    0.0   \n",
       "3            NaN             NaN               -617.0                    NaN   \n",
       "4            NaN             NaN              -1106.0                    0.0   \n",
       "\n",
       "   num_petic_bureau_day num_petic_bureau_week  num_petic_bureau_month  \\\n",
       "0                   0.0                   0.0                     0.0   \n",
       "1                   0.0                   0.0                     0.0   \n",
       "2                   0.0                   0.0                     0.0   \n",
       "3                   NaN                   NaN                     NaN   \n",
       "4                   0.0                   0.0                     0.0   \n",
       "\n",
       "   num_petic_bureau_quarter  num_petic_bureau_year  \n",
       "0                       0.0                    1.0  \n",
       "1                       0.0                    0.0  \n",
       "2                       0.0                    0.0  \n",
       "3                       NaN                    NaN  \n",
       "4                       0.0                    0.0  \n",
       "\n",
       "[5 rows x 94 columns]"
      ]
     },
     "execution_count": 7,
     "metadata": {},
     "output_type": "execute_result"
    }
   ],
   "source": [
    "data.head(5)"
   ]
  },
  {
   "cell_type": "code",
   "execution_count": 8,
   "metadata": {},
   "outputs": [],
   "source": [
    "r_list = ['total_income', 'loan_amount', 'anual_payment', 'product_amount', 'normalised_pop', 'registry_age', 'external_score_1', 'external_score_2', 'external_score_3', 'num_apart_average',\n",
    "          'area_basement_average', 'age_expl_average', 'age_building_average', 'area_common_average', 'num_lifts_average', 'num_entries_average', 'max_floor_average', 'min_floor_average',\n",
    "          'area_building_average', 'num_apart_habit_average', 'area_habit_average', 'num_apart_nohabit_average', 'area_nohabit_average', 'num_apart_mode', 'area_basement_mode', 'age_expl_mode', \n",
    "          'age_building_mode', 'area_common_mode', 'num_lifts_mode', 'num_entries_mode', 'max_floor_mode', 'min_floor_mode', 'area_building_mode', 'num_apart_habit_mode', 'area_habit_mode', \n",
    "          'num_apart_nohabit_mode', 'area_nohabit_mode', 'num_apart_median', 'area_basement_median', 'age_expl_median', 'age_building_median', 'area_common_median', 'num_lifts_median', \n",
    "          'num_entries_median', 'max_floor_median', 'min_floor_median', 'area_building_median', 'num_apart_habit_median', 'area_habit_median', 'num_apart_nohabit_median', 'area_nohabit_median', \n",
    "          'total_area', 'age_mobilephone_days', 'num_petic_bureau_hour', 'num_petic_bureau_day', 'num_petic_bureau_week', 'num_petic_bureau_month', 'num_petic_bureau_quarter', \n",
    "          'num_petic_bureau_year']"
   ]
  },
  {
   "cell_type": "code",
   "execution_count": 9,
   "metadata": {},
   "outputs": [],
   "source": [
    "# Reformating object to numerical values\n",
    "data[r_list] = data[r_list].replace({',':'.'}, regex=True)\n",
    "data[r_list] = data[r_list].apply(pd.to_numeric)"
   ]
  },
  {
   "cell_type": "code",
   "execution_count": 10,
   "metadata": {},
   "outputs": [
    {
     "data": {
      "text/html": [
       "<div>\n",
       "<style scoped>\n",
       "    .dataframe tbody tr th:only-of-type {\n",
       "        vertical-align: middle;\n",
       "    }\n",
       "\n",
       "    .dataframe tbody tr th {\n",
       "        vertical-align: top;\n",
       "    }\n",
       "\n",
       "    .dataframe thead th {\n",
       "        text-align: right;\n",
       "    }\n",
       "</style>\n",
       "<table border=\"1\" class=\"dataframe\">\n",
       "  <thead>\n",
       "    <tr style=\"text-align: right;\">\n",
       "      <th></th>\n",
       "      <th>default</th>\n",
       "      <th>contract_type</th>\n",
       "      <th>gender</th>\n",
       "      <th>flag_vehicle</th>\n",
       "      <th>flag_properties</th>\n",
       "      <th>num_children</th>\n",
       "      <th>total_income</th>\n",
       "      <th>loan_amount</th>\n",
       "      <th>anual_payment</th>\n",
       "      <th>product_amount</th>\n",
       "      <th>...</th>\n",
       "      <th>total_area</th>\n",
       "      <th>wall_materials</th>\n",
       "      <th>emergency_exits</th>\n",
       "      <th>age_mobilephone_days</th>\n",
       "      <th>num_petic_bureau_hour</th>\n",
       "      <th>num_petic_bureau_day</th>\n",
       "      <th>num_petic_bureau_week</th>\n",
       "      <th>num_petic_bureau_month</th>\n",
       "      <th>num_petic_bureau_quarter</th>\n",
       "      <th>num_petic_bureau_year</th>\n",
       "    </tr>\n",
       "  </thead>\n",
       "  <tbody>\n",
       "    <tr>\n",
       "      <th>0</th>\n",
       "      <td>1</td>\n",
       "      <td>personal loan</td>\n",
       "      <td>M</td>\n",
       "      <td>N</td>\n",
       "      <td>Y</td>\n",
       "      <td>0</td>\n",
       "      <td>202500.0</td>\n",
       "      <td>406597.5</td>\n",
       "      <td>24700.5</td>\n",
       "      <td>351000.0</td>\n",
       "      <td>...</td>\n",
       "      <td>0.0149</td>\n",
       "      <td>brick</td>\n",
       "      <td>N</td>\n",
       "      <td>-1134.0</td>\n",
       "      <td>0.0</td>\n",
       "      <td>0.0</td>\n",
       "      <td>0.0</td>\n",
       "      <td>0.0</td>\n",
       "      <td>0.0</td>\n",
       "      <td>1.0</td>\n",
       "    </tr>\n",
       "    <tr>\n",
       "      <th>1</th>\n",
       "      <td>0</td>\n",
       "      <td>personal loan</td>\n",
       "      <td>F</td>\n",
       "      <td>N</td>\n",
       "      <td>N</td>\n",
       "      <td>0</td>\n",
       "      <td>270000.0</td>\n",
       "      <td>1293502.5</td>\n",
       "      <td>35698.5</td>\n",
       "      <td>1129500.0</td>\n",
       "      <td>...</td>\n",
       "      <td>0.0714</td>\n",
       "      <td>concrete</td>\n",
       "      <td>N</td>\n",
       "      <td>-828.0</td>\n",
       "      <td>0.0</td>\n",
       "      <td>0.0</td>\n",
       "      <td>0.0</td>\n",
       "      <td>0.0</td>\n",
       "      <td>0.0</td>\n",
       "      <td>0.0</td>\n",
       "    </tr>\n",
       "    <tr>\n",
       "      <th>2</th>\n",
       "      <td>0</td>\n",
       "      <td>credit card</td>\n",
       "      <td>M</td>\n",
       "      <td>Y</td>\n",
       "      <td>Y</td>\n",
       "      <td>0</td>\n",
       "      <td>67500.0</td>\n",
       "      <td>135000.0</td>\n",
       "      <td>6750.0</td>\n",
       "      <td>135000.0</td>\n",
       "      <td>...</td>\n",
       "      <td>NaN</td>\n",
       "      <td>NaN</td>\n",
       "      <td>NaN</td>\n",
       "      <td>-815.0</td>\n",
       "      <td>0.0</td>\n",
       "      <td>0.0</td>\n",
       "      <td>0.0</td>\n",
       "      <td>0.0</td>\n",
       "      <td>0.0</td>\n",
       "      <td>0.0</td>\n",
       "    </tr>\n",
       "    <tr>\n",
       "      <th>3</th>\n",
       "      <td>0</td>\n",
       "      <td>personal loan</td>\n",
       "      <td>F</td>\n",
       "      <td>N</td>\n",
       "      <td>Y</td>\n",
       "      <td>0</td>\n",
       "      <td>135000.0</td>\n",
       "      <td>312682.5</td>\n",
       "      <td>29686.5</td>\n",
       "      <td>297000.0</td>\n",
       "      <td>...</td>\n",
       "      <td>NaN</td>\n",
       "      <td>NaN</td>\n",
       "      <td>NaN</td>\n",
       "      <td>-617.0</td>\n",
       "      <td>NaN</td>\n",
       "      <td>NaN</td>\n",
       "      <td>NaN</td>\n",
       "      <td>NaN</td>\n",
       "      <td>NaN</td>\n",
       "      <td>NaN</td>\n",
       "    </tr>\n",
       "    <tr>\n",
       "      <th>4</th>\n",
       "      <td>0</td>\n",
       "      <td>personal loan</td>\n",
       "      <td>M</td>\n",
       "      <td>N</td>\n",
       "      <td>Y</td>\n",
       "      <td>0</td>\n",
       "      <td>121500.0</td>\n",
       "      <td>513000.0</td>\n",
       "      <td>21865.5</td>\n",
       "      <td>513000.0</td>\n",
       "      <td>...</td>\n",
       "      <td>NaN</td>\n",
       "      <td>NaN</td>\n",
       "      <td>NaN</td>\n",
       "      <td>-1106.0</td>\n",
       "      <td>0.0</td>\n",
       "      <td>0.0</td>\n",
       "      <td>0.0</td>\n",
       "      <td>0.0</td>\n",
       "      <td>0.0</td>\n",
       "      <td>0.0</td>\n",
       "    </tr>\n",
       "  </tbody>\n",
       "</table>\n",
       "<p>5 rows × 94 columns</p>\n",
       "</div>"
      ],
      "text/plain": [
       "   default  contract_type gender flag_vehicle flag_properties  num_children  \\\n",
       "0        1  personal loan      M            N               Y             0   \n",
       "1        0  personal loan      F            N               N             0   \n",
       "2        0    credit card      M            Y               Y             0   \n",
       "3        0  personal loan      F            N               Y             0   \n",
       "4        0  personal loan      M            N               Y             0   \n",
       "\n",
       "   total_income  loan_amount  anual_payment  product_amount  ... total_area  \\\n",
       "0      202500.0     406597.5        24700.5        351000.0  ...     0.0149   \n",
       "1      270000.0    1293502.5        35698.5       1129500.0  ...     0.0714   \n",
       "2       67500.0     135000.0         6750.0        135000.0  ...        NaN   \n",
       "3      135000.0     312682.5        29686.5        297000.0  ...        NaN   \n",
       "4      121500.0     513000.0        21865.5        513000.0  ...        NaN   \n",
       "\n",
       "  wall_materials emergency_exits  age_mobilephone_days  num_petic_bureau_hour  \\\n",
       "0          brick               N               -1134.0                    0.0   \n",
       "1       concrete               N                -828.0                    0.0   \n",
       "2            NaN             NaN                -815.0                    0.0   \n",
       "3            NaN             NaN                -617.0                    NaN   \n",
       "4            NaN             NaN               -1106.0                    0.0   \n",
       "\n",
       "   num_petic_bureau_day  num_petic_bureau_week  num_petic_bureau_month  \\\n",
       "0                   0.0                    0.0                     0.0   \n",
       "1                   0.0                    0.0                     0.0   \n",
       "2                   0.0                    0.0                     0.0   \n",
       "3                   NaN                    NaN                     NaN   \n",
       "4                   0.0                    0.0                     0.0   \n",
       "\n",
       "   num_petic_bureau_quarter  num_petic_bureau_year  \n",
       "0                       0.0                    1.0  \n",
       "1                       0.0                    0.0  \n",
       "2                       0.0                    0.0  \n",
       "3                       NaN                    NaN  \n",
       "4                       0.0                    0.0  \n",
       "\n",
       "[5 rows x 94 columns]"
      ]
     },
     "execution_count": 10,
     "metadata": {},
     "output_type": "execute_result"
    }
   ],
   "source": [
    "data.head(5)"
   ]
  },
  {
   "cell_type": "code",
   "execution_count": 11,
   "metadata": {},
   "outputs": [],
   "source": [
    "# Transforming categorical to numerical\n",
    "column_equivalence = {}\n",
    "features = list(data.columns)\n",
    "for i, column in enumerate(list([str(d) for d in data.dtypes])):\n",
    "    if column == \"object\":\n",
    "        data[data.columns[i]] = data[data.columns[i]].fillna(data[data.columns[i]].mode())\n",
    "        categorical_column = data[data.columns[i]].astype(\"category\")\n",
    "        column_equivalence[i] = dict(enumerate(categorical_column.cat.categories))\n",
    "        data[data.columns[i]] = categorical_column.cat.codes\n",
    "    else:\n",
    "        data[data.columns[i]] = data[data.columns[i]].fillna(data[data.columns[i]].mean())"
   ]
  },
  {
   "cell_type": "code",
   "execution_count": 12,
   "metadata": {},
   "outputs": [
    {
     "data": {
      "text/plain": [
       "13"
      ]
     },
     "execution_count": 12,
     "metadata": {},
     "output_type": "execute_result"
    }
   ],
   "source": [
    "len(column_equivalence)"
   ]
  },
  {
   "cell_type": "code",
   "execution_count": 13,
   "metadata": {},
   "outputs": [
    {
     "data": {
      "text/plain": [
       "{1: {'credit card': 0, 'personal loan': 1},\n",
       " 2: {'F': 0, 'M': 1, 'not specified': 2},\n",
       " 3: {'N': 0, 'Y': 1},\n",
       " 4: {'N': 0, 'Y': 1},\n",
       " 10: {'alone': 0,\n",
       "  'children': 1,\n",
       "  'couple': 2,\n",
       "  'family': 3,\n",
       "  'group': 4,\n",
       "  'other_1': 5,\n",
       "  'other_2': 6},\n",
       " 11: {'public servant': 0,\n",
       "  'retirement': 1,\n",
       "  'salary': 2,\n",
       "  'self-employment': 3,\n",
       "  'shareholder': 4,\n",
       "  'sick leave': 5,\n",
       "  'student': 6,\n",
       "  'unemployment': 7},\n",
       " 12: {'civil partnership': 0,\n",
       "  'divorced': 1,\n",
       "  'married': 2,\n",
       "  'single': 3,\n",
       "  'unspecified': 4,\n",
       "  'widowed': 5},\n",
       " 25: {'HR': 0,\n",
       "  'IT': 1,\n",
       "  'accounting': 2,\n",
       "  'cleaning': 3,\n",
       "  'commercial': 4,\n",
       "  'cooking': 5,\n",
       "  'drivers': 6,\n",
       "  'external': 7,\n",
       "  'health': 8,\n",
       "  'internal': 9,\n",
       "  'managers': 10,\n",
       "  'private sector': 11,\n",
       "  'professional': 12,\n",
       "  'real estate agent': 13,\n",
       "  'secretary': 14,\n",
       "  'security': 15,\n",
       "  'technical': 16,\n",
       "  'waiter': 17},\n",
       " 29: {'Fri': 0, 'Mon': 1, 'Sat': 2, 'Sun': 3, 'Thu': 4, 'Tue': 5, 'Wed': 6},\n",
       " 37: {'agriculture': 0,\n",
       "  'bank': 1,\n",
       "  'business type 1': 2,\n",
       "  'business type 2': 3,\n",
       "  'business type 3': 4,\n",
       "  'cleaning': 5,\n",
       "  'construction': 6,\n",
       "  'culture': 7,\n",
       "  'electrician': 8,\n",
       "  'emergencies': 9,\n",
       "  'governmental': 10,\n",
       "  'governmental security': 11,\n",
       "  'health': 12,\n",
       "  'hosting': 13,\n",
       "  'hotel industry': 14,\n",
       "  'indusry type 2': 15,\n",
       "  'industry type 1': 16,\n",
       "  'industry type 10': 17,\n",
       "  'industry type 11': 18,\n",
       "  'industry type 12': 19,\n",
       "  'industry type 13': 20,\n",
       "  'industry type 3': 21,\n",
       "  'industry type 4': 22,\n",
       "  'industry type 5': 23,\n",
       "  'industry type 6': 24,\n",
       "  'industry type 7': 25,\n",
       "  'industry type 8': 26,\n",
       "  'industry type 9': 27,\n",
       "  'insurance': 28,\n",
       "  'legal services': 29,\n",
       "  'military': 30,\n",
       "  'mobile phone': 31,\n",
       "  'non-uni education': 32,\n",
       "  'not specified': 33,\n",
       "  'nursery school': 34,\n",
       "  'other': 35,\n",
       "  'police': 36,\n",
       "  'postal services': 37,\n",
       "  'publicity': 38,\n",
       "  'real estate': 39,\n",
       "  'religion': 40,\n",
       "  'restoration': 41,\n",
       "  'security': 42,\n",
       "  'self-employed': 43,\n",
       "  'services': 44,\n",
       "  'store type 1': 45,\n",
       "  'store type 2': 46,\n",
       "  'store type 3': 47,\n",
       "  'store type 4': 48,\n",
       "  'store type 5': 49,\n",
       "  'store type 6': 50,\n",
       "  'store type 7': 51,\n",
       "  'telecommunications': 52,\n",
       "  'transport type 1': 53,\n",
       "  'transport type 2': 54,\n",
       "  'transport type 3': 55,\n",
       "  'transport type 4': 56,\n",
       "  'university education': 57},\n",
       " 83: {'appartment building': 0, 'house': 1, 'row-house': 2},\n",
       " 85: {'brick': 0,\n",
       "  'concrete': 1,\n",
       "  'mixed': 2,\n",
       "  'monolithic': 3,\n",
       "  'other': 4,\n",
       "  'panel': 5,\n",
       "  'wood': 6},\n",
       " 86: {'N': 0, 'Y': 1}}"
      ]
     },
     "execution_count": 13,
     "metadata": {},
     "output_type": "execute_result"
    }
   ],
   "source": [
    "ce = {}\n",
    "for i in column_equivalence:\n",
    "    ce[i] = {y:x for (x,y) in column_equivalence[i].items()}\n",
    "ce"
   ]
  },
  {
   "cell_type": "code",
   "execution_count": 14,
   "metadata": {},
   "outputs": [
    {
     "data": {
      "text/html": [
       "<div>\n",
       "<style scoped>\n",
       "    .dataframe tbody tr th:only-of-type {\n",
       "        vertical-align: middle;\n",
       "    }\n",
       "\n",
       "    .dataframe tbody tr th {\n",
       "        vertical-align: top;\n",
       "    }\n",
       "\n",
       "    .dataframe thead th {\n",
       "        text-align: right;\n",
       "    }\n",
       "</style>\n",
       "<table border=\"1\" class=\"dataframe\">\n",
       "  <thead>\n",
       "    <tr style=\"text-align: right;\">\n",
       "      <th></th>\n",
       "      <th>default</th>\n",
       "      <th>contract_type</th>\n",
       "      <th>gender</th>\n",
       "      <th>flag_vehicle</th>\n",
       "      <th>flag_properties</th>\n",
       "      <th>num_children</th>\n",
       "      <th>total_income</th>\n",
       "      <th>loan_amount</th>\n",
       "      <th>anual_payment</th>\n",
       "      <th>product_amount</th>\n",
       "      <th>...</th>\n",
       "      <th>total_area</th>\n",
       "      <th>wall_materials</th>\n",
       "      <th>emergency_exits</th>\n",
       "      <th>age_mobilephone_days</th>\n",
       "      <th>num_petic_bureau_hour</th>\n",
       "      <th>num_petic_bureau_day</th>\n",
       "      <th>num_petic_bureau_week</th>\n",
       "      <th>num_petic_bureau_month</th>\n",
       "      <th>num_petic_bureau_quarter</th>\n",
       "      <th>num_petic_bureau_year</th>\n",
       "    </tr>\n",
       "  </thead>\n",
       "  <tbody>\n",
       "    <tr>\n",
       "      <th>0</th>\n",
       "      <td>1</td>\n",
       "      <td>1</td>\n",
       "      <td>1</td>\n",
       "      <td>0</td>\n",
       "      <td>1</td>\n",
       "      <td>0</td>\n",
       "      <td>202500.0</td>\n",
       "      <td>406597.5</td>\n",
       "      <td>24700.5</td>\n",
       "      <td>351000.0</td>\n",
       "      <td>...</td>\n",
       "      <td>0.014900</td>\n",
       "      <td>0</td>\n",
       "      <td>0</td>\n",
       "      <td>-1134.0</td>\n",
       "      <td>0.000000</td>\n",
       "      <td>0.000</td>\n",
       "      <td>0.000000</td>\n",
       "      <td>0.000000</td>\n",
       "      <td>0.000000</td>\n",
       "      <td>1.000000</td>\n",
       "    </tr>\n",
       "    <tr>\n",
       "      <th>1</th>\n",
       "      <td>0</td>\n",
       "      <td>1</td>\n",
       "      <td>0</td>\n",
       "      <td>0</td>\n",
       "      <td>0</td>\n",
       "      <td>0</td>\n",
       "      <td>270000.0</td>\n",
       "      <td>1293502.5</td>\n",
       "      <td>35698.5</td>\n",
       "      <td>1129500.0</td>\n",
       "      <td>...</td>\n",
       "      <td>0.071400</td>\n",
       "      <td>1</td>\n",
       "      <td>0</td>\n",
       "      <td>-828.0</td>\n",
       "      <td>0.000000</td>\n",
       "      <td>0.000</td>\n",
       "      <td>0.000000</td>\n",
       "      <td>0.000000</td>\n",
       "      <td>0.000000</td>\n",
       "      <td>0.000000</td>\n",
       "    </tr>\n",
       "    <tr>\n",
       "      <th>2</th>\n",
       "      <td>0</td>\n",
       "      <td>0</td>\n",
       "      <td>1</td>\n",
       "      <td>1</td>\n",
       "      <td>1</td>\n",
       "      <td>0</td>\n",
       "      <td>67500.0</td>\n",
       "      <td>135000.0</td>\n",
       "      <td>6750.0</td>\n",
       "      <td>135000.0</td>\n",
       "      <td>...</td>\n",
       "      <td>0.102547</td>\n",
       "      <td>-1</td>\n",
       "      <td>-1</td>\n",
       "      <td>-815.0</td>\n",
       "      <td>0.000000</td>\n",
       "      <td>0.000</td>\n",
       "      <td>0.000000</td>\n",
       "      <td>0.000000</td>\n",
       "      <td>0.000000</td>\n",
       "      <td>0.000000</td>\n",
       "    </tr>\n",
       "    <tr>\n",
       "      <th>3</th>\n",
       "      <td>0</td>\n",
       "      <td>1</td>\n",
       "      <td>0</td>\n",
       "      <td>0</td>\n",
       "      <td>1</td>\n",
       "      <td>0</td>\n",
       "      <td>135000.0</td>\n",
       "      <td>312682.5</td>\n",
       "      <td>29686.5</td>\n",
       "      <td>297000.0</td>\n",
       "      <td>...</td>\n",
       "      <td>0.102547</td>\n",
       "      <td>-1</td>\n",
       "      <td>-1</td>\n",
       "      <td>-617.0</td>\n",
       "      <td>0.006402</td>\n",
       "      <td>0.007</td>\n",
       "      <td>0.034362</td>\n",
       "      <td>0.267395</td>\n",
       "      <td>0.265474</td>\n",
       "      <td>1.899974</td>\n",
       "    </tr>\n",
       "    <tr>\n",
       "      <th>4</th>\n",
       "      <td>0</td>\n",
       "      <td>1</td>\n",
       "      <td>1</td>\n",
       "      <td>0</td>\n",
       "      <td>1</td>\n",
       "      <td>0</td>\n",
       "      <td>121500.0</td>\n",
       "      <td>513000.0</td>\n",
       "      <td>21865.5</td>\n",
       "      <td>513000.0</td>\n",
       "      <td>...</td>\n",
       "      <td>0.102547</td>\n",
       "      <td>-1</td>\n",
       "      <td>-1</td>\n",
       "      <td>-1106.0</td>\n",
       "      <td>0.000000</td>\n",
       "      <td>0.000</td>\n",
       "      <td>0.000000</td>\n",
       "      <td>0.000000</td>\n",
       "      <td>0.000000</td>\n",
       "      <td>0.000000</td>\n",
       "    </tr>\n",
       "  </tbody>\n",
       "</table>\n",
       "<p>5 rows × 94 columns</p>\n",
       "</div>"
      ],
      "text/plain": [
       "   default  contract_type  gender  flag_vehicle  flag_properties  \\\n",
       "0        1              1       1             0                1   \n",
       "1        0              1       0             0                0   \n",
       "2        0              0       1             1                1   \n",
       "3        0              1       0             0                1   \n",
       "4        0              1       1             0                1   \n",
       "\n",
       "   num_children  total_income  loan_amount  anual_payment  product_amount  \\\n",
       "0             0      202500.0     406597.5        24700.5        351000.0   \n",
       "1             0      270000.0    1293502.5        35698.5       1129500.0   \n",
       "2             0       67500.0     135000.0         6750.0        135000.0   \n",
       "3             0      135000.0     312682.5        29686.5        297000.0   \n",
       "4             0      121500.0     513000.0        21865.5        513000.0   \n",
       "\n",
       "   ...  total_area  wall_materials  emergency_exits  age_mobilephone_days  \\\n",
       "0  ...    0.014900               0                0               -1134.0   \n",
       "1  ...    0.071400               1                0                -828.0   \n",
       "2  ...    0.102547              -1               -1                -815.0   \n",
       "3  ...    0.102547              -1               -1                -617.0   \n",
       "4  ...    0.102547              -1               -1               -1106.0   \n",
       "\n",
       "   num_petic_bureau_hour  num_petic_bureau_day  num_petic_bureau_week  \\\n",
       "0               0.000000                 0.000               0.000000   \n",
       "1               0.000000                 0.000               0.000000   \n",
       "2               0.000000                 0.000               0.000000   \n",
       "3               0.006402                 0.007               0.034362   \n",
       "4               0.000000                 0.000               0.000000   \n",
       "\n",
       "   num_petic_bureau_month  num_petic_bureau_quarter  num_petic_bureau_year  \n",
       "0                0.000000                  0.000000               1.000000  \n",
       "1                0.000000                  0.000000               0.000000  \n",
       "2                0.000000                  0.000000               0.000000  \n",
       "3                0.267395                  0.265474               1.899974  \n",
       "4                0.000000                  0.000000               0.000000  \n",
       "\n",
       "[5 rows x 94 columns]"
      ]
     },
     "execution_count": 14,
     "metadata": {},
     "output_type": "execute_result"
    }
   ],
   "source": [
    "data.head(5)"
   ]
  },
  {
   "cell_type": "code",
   "execution_count": 15,
   "metadata": {},
   "outputs": [
    {
     "data": {
      "image/png": "[encoded data removed]",
      "text/plain": [
       "<Figure size 2000x1000 with 1 Axes>"
      ]
     },
     "metadata": {},
     "output_type": "display_data"
    }
   ],
   "source": [
    "# Studying correlations with respect to the target varible (Default).\n",
    "import matplotlib.pyplot as plt\n",
    "plt.figure(figsize=(20,10))\n",
    "data.corr()['default'].sort_values(ascending=True)[:-1].plot(kind='bar')\n",
    "plt.show()"
   ]
  },
  {
   "cell_type": "code",
   "execution_count": 16,
   "metadata": {},
   "outputs": [
    {
     "data": {
      "text/plain": [
       "71"
      ]
     },
     "execution_count": 16,
     "metadata": {},
     "output_type": "execute_result"
    }
   ],
   "source": [
    "corr = data.corr()['default'] \n",
    "#filt = corr[(corr<=-0.02) & (corr>=0.02)]\n",
    "dis = list(corr[(corr>-0.035) & (corr<0.035)].index)\n",
    "len(dis)"
   ]
  },
  {
   "cell_type": "code",
   "execution_count": 17,
   "metadata": {},
   "outputs": [
    {
     "data": {
      "text/html": [
       "<div>\n",
       "<style scoped>\n",
       "    .dataframe tbody tr th:only-of-type {\n",
       "        vertical-align: middle;\n",
       "    }\n",
       "\n",
       "    .dataframe tbody tr th {\n",
       "        vertical-align: top;\n",
       "    }\n",
       "\n",
       "    .dataframe thead th {\n",
       "        text-align: right;\n",
       "    }\n",
       "</style>\n",
       "<table border=\"1\" class=\"dataframe\">\n",
       "  <thead>\n",
       "    <tr style=\"text-align: right;\">\n",
       "      <th></th>\n",
       "      <th>default</th>\n",
       "      <th>contract_type</th>\n",
       "      <th>gender</th>\n",
       "      <th>loan_amount</th>\n",
       "      <th>product_amount</th>\n",
       "      <th>normalised_pop</th>\n",
       "      <th>age</th>\n",
       "      <th>work_age</th>\n",
       "      <th>registry_age</th>\n",
       "      <th>id_age</th>\n",
       "      <th>...</th>\n",
       "      <th>flag_direperm_direcon_ciu</th>\n",
       "      <th>flag_direperm_diretra_ciu</th>\n",
       "      <th>flag_direcon_diretra_ciu</th>\n",
       "      <th>external_score_1</th>\n",
       "      <th>external_score_2</th>\n",
       "      <th>external_score_3</th>\n",
       "      <th>type_building</th>\n",
       "      <th>wall_materials</th>\n",
       "      <th>emergency_exits</th>\n",
       "      <th>age_mobilephone_days</th>\n",
       "    </tr>\n",
       "  </thead>\n",
       "  <tbody>\n",
       "    <tr>\n",
       "      <th>0</th>\n",
       "      <td>1</td>\n",
       "      <td>1</td>\n",
       "      <td>1</td>\n",
       "      <td>406597.5</td>\n",
       "      <td>351000.0</td>\n",
       "      <td>0.018801</td>\n",
       "      <td>-9461</td>\n",
       "      <td>-637</td>\n",
       "      <td>-3648.0</td>\n",
       "      <td>-2120</td>\n",
       "      <td>...</td>\n",
       "      <td>0</td>\n",
       "      <td>0</td>\n",
       "      <td>0</td>\n",
       "      <td>0.083037</td>\n",
       "      <td>0.262949</td>\n",
       "      <td>0.139376</td>\n",
       "      <td>0</td>\n",
       "      <td>0</td>\n",
       "      <td>0</td>\n",
       "      <td>-1134.0</td>\n",
       "    </tr>\n",
       "    <tr>\n",
       "      <th>1</th>\n",
       "      <td>0</td>\n",
       "      <td>1</td>\n",
       "      <td>0</td>\n",
       "      <td>1293502.5</td>\n",
       "      <td>1129500.0</td>\n",
       "      <td>0.003541</td>\n",
       "      <td>-16765</td>\n",
       "      <td>-1188</td>\n",
       "      <td>-1186.0</td>\n",
       "      <td>-291</td>\n",
       "      <td>...</td>\n",
       "      <td>0</td>\n",
       "      <td>0</td>\n",
       "      <td>0</td>\n",
       "      <td>0.311267</td>\n",
       "      <td>0.622246</td>\n",
       "      <td>0.510853</td>\n",
       "      <td>0</td>\n",
       "      <td>1</td>\n",
       "      <td>0</td>\n",
       "      <td>-828.0</td>\n",
       "    </tr>\n",
       "    <tr>\n",
       "      <th>2</th>\n",
       "      <td>0</td>\n",
       "      <td>0</td>\n",
       "      <td>1</td>\n",
       "      <td>135000.0</td>\n",
       "      <td>135000.0</td>\n",
       "      <td>0.010032</td>\n",
       "      <td>-19046</td>\n",
       "      <td>-225</td>\n",
       "      <td>-4260.0</td>\n",
       "      <td>-2531</td>\n",
       "      <td>...</td>\n",
       "      <td>0</td>\n",
       "      <td>0</td>\n",
       "      <td>0</td>\n",
       "      <td>0.502130</td>\n",
       "      <td>0.555912</td>\n",
       "      <td>0.729567</td>\n",
       "      <td>-1</td>\n",
       "      <td>-1</td>\n",
       "      <td>-1</td>\n",
       "      <td>-815.0</td>\n",
       "    </tr>\n",
       "    <tr>\n",
       "      <th>3</th>\n",
       "      <td>0</td>\n",
       "      <td>1</td>\n",
       "      <td>0</td>\n",
       "      <td>312682.5</td>\n",
       "      <td>297000.0</td>\n",
       "      <td>0.008019</td>\n",
       "      <td>-19005</td>\n",
       "      <td>-3039</td>\n",
       "      <td>-9833.0</td>\n",
       "      <td>-2437</td>\n",
       "      <td>...</td>\n",
       "      <td>0</td>\n",
       "      <td>0</td>\n",
       "      <td>0</td>\n",
       "      <td>0.502130</td>\n",
       "      <td>0.650442</td>\n",
       "      <td>0.510853</td>\n",
       "      <td>-1</td>\n",
       "      <td>-1</td>\n",
       "      <td>-1</td>\n",
       "      <td>-617.0</td>\n",
       "    </tr>\n",
       "    <tr>\n",
       "      <th>4</th>\n",
       "      <td>0</td>\n",
       "      <td>1</td>\n",
       "      <td>1</td>\n",
       "      <td>513000.0</td>\n",
       "      <td>513000.0</td>\n",
       "      <td>0.028663</td>\n",
       "      <td>-19932</td>\n",
       "      <td>-3038</td>\n",
       "      <td>-4311.0</td>\n",
       "      <td>-3458</td>\n",
       "      <td>...</td>\n",
       "      <td>0</td>\n",
       "      <td>1</td>\n",
       "      <td>1</td>\n",
       "      <td>0.502130</td>\n",
       "      <td>0.322738</td>\n",
       "      <td>0.510853</td>\n",
       "      <td>-1</td>\n",
       "      <td>-1</td>\n",
       "      <td>-1</td>\n",
       "      <td>-1106.0</td>\n",
       "    </tr>\n",
       "  </tbody>\n",
       "</table>\n",
       "<p>5 rows × 23 columns</p>\n",
       "</div>"
      ],
      "text/plain": [
       "   default  contract_type  gender  loan_amount  product_amount  \\\n",
       "0        1              1       1     406597.5        351000.0   \n",
       "1        0              1       0    1293502.5       1129500.0   \n",
       "2        0              0       1     135000.0        135000.0   \n",
       "3        0              1       0     312682.5        297000.0   \n",
       "4        0              1       1     513000.0        513000.0   \n",
       "\n",
       "   normalised_pop    age  work_age  registry_age  id_age  ...  \\\n",
       "0        0.018801  -9461      -637       -3648.0   -2120  ...   \n",
       "1        0.003541 -16765     -1188       -1186.0    -291  ...   \n",
       "2        0.010032 -19046      -225       -4260.0   -2531  ...   \n",
       "3        0.008019 -19005     -3039       -9833.0   -2437  ...   \n",
       "4        0.028663 -19932     -3038       -4311.0   -3458  ...   \n",
       "\n",
       "   flag_direperm_direcon_ciu  flag_direperm_diretra_ciu  \\\n",
       "0                          0                          0   \n",
       "1                          0                          0   \n",
       "2                          0                          0   \n",
       "3                          0                          0   \n",
       "4                          0                          1   \n",
       "\n",
       "   flag_direcon_diretra_ciu  external_score_1  external_score_2  \\\n",
       "0                         0          0.083037          0.262949   \n",
       "1                         0          0.311267          0.622246   \n",
       "2                         0          0.502130          0.555912   \n",
       "3                         0          0.502130          0.650442   \n",
       "4                         1          0.502130          0.322738   \n",
       "\n",
       "   external_score_3  type_building  wall_materials  emergency_exits  \\\n",
       "0          0.139376              0               0                0   \n",
       "1          0.510853              0               1                0   \n",
       "2          0.729567             -1              -1               -1   \n",
       "3          0.510853             -1              -1               -1   \n",
       "4          0.510853             -1              -1               -1   \n",
       "\n",
       "   age_mobilephone_days  \n",
       "0               -1134.0  \n",
       "1                -828.0  \n",
       "2                -815.0  \n",
       "3                -617.0  \n",
       "4               -1106.0  \n",
       "\n",
       "[5 rows x 23 columns]"
      ]
     },
     "execution_count": 17,
     "metadata": {},
     "output_type": "execute_result"
    }
   ],
   "source": [
    "# Discarting features based on its correlation with target variable\n",
    "cdata = data.drop(dis, axis=1)\n",
    "cdata.head(5)"
   ]
  },
  {
   "cell_type": "code",
   "execution_count": 18,
   "metadata": {},
   "outputs": [
    {
     "data": {
      "text/plain": [
       "['contract_type',\n",
       " 'gender',\n",
       " 'loan_amount',\n",
       " 'product_amount',\n",
       " 'normalised_pop',\n",
       " 'age',\n",
       " 'work_age',\n",
       " 'registry_age',\n",
       " 'id_age',\n",
       " 'flag_work_phone',\n",
       " 'region_score',\n",
       " 'region_city_score',\n",
       " 'flag_direperm_direcon_ciu',\n",
       " 'flag_direperm_diretra_ciu',\n",
       " 'flag_direcon_diretra_ciu',\n",
       " 'external_score_1',\n",
       " 'external_score_2',\n",
       " 'external_score_3',\n",
       " 'type_building',\n",
       " 'wall_materials',\n",
       " 'emergency_exits',\n",
       " 'age_mobilephone_days']"
      ]
     },
     "execution_count": 18,
     "metadata": {},
     "output_type": "execute_result"
    }
   ],
   "source": [
    "features = list(cdata.columns)[1:]\n",
    "features"
   ]
  },
  {
   "cell_type": "code",
   "execution_count": 19,
   "metadata": {},
   "outputs": [
    {
     "data": {
      "text/html": [
       "<div>\n",
       "<style scoped>\n",
       "    .dataframe tbody tr th:only-of-type {\n",
       "        vertical-align: middle;\n",
       "    }\n",
       "\n",
       "    .dataframe tbody tr th {\n",
       "        vertical-align: top;\n",
       "    }\n",
       "\n",
       "    .dataframe thead th {\n",
       "        text-align: right;\n",
       "    }\n",
       "</style>\n",
       "<table border=\"1\" class=\"dataframe\">\n",
       "  <thead>\n",
       "    <tr style=\"text-align: right;\">\n",
       "      <th></th>\n",
       "      <th>default</th>\n",
       "      <th>contract_type</th>\n",
       "      <th>gender</th>\n",
       "      <th>loan_amount</th>\n",
       "      <th>product_amount</th>\n",
       "      <th>normalised_pop</th>\n",
       "      <th>age</th>\n",
       "      <th>work_age</th>\n",
       "      <th>registry_age</th>\n",
       "      <th>id_age</th>\n",
       "      <th>...</th>\n",
       "      <th>flag_direperm_direcon_ciu</th>\n",
       "      <th>flag_direperm_diretra_ciu</th>\n",
       "      <th>flag_direcon_diretra_ciu</th>\n",
       "      <th>external_score_1</th>\n",
       "      <th>external_score_2</th>\n",
       "      <th>external_score_3</th>\n",
       "      <th>type_building</th>\n",
       "      <th>wall_materials</th>\n",
       "      <th>emergency_exits</th>\n",
       "      <th>age_mobilephone_days</th>\n",
       "    </tr>\n",
       "  </thead>\n",
       "  <tbody>\n",
       "    <tr>\n",
       "      <th>0</th>\n",
       "      <td>1.0</td>\n",
       "      <td>1.0</td>\n",
       "      <td>0.5</td>\n",
       "      <td>0.090287</td>\n",
       "      <td>0.077441</td>\n",
       "      <td>0.256321</td>\n",
       "      <td>0.888839</td>\n",
       "      <td>0.045086</td>\n",
       "      <td>0.852140</td>\n",
       "      <td>0.705433</td>\n",
       "      <td>...</td>\n",
       "      <td>0.0</td>\n",
       "      <td>0.0</td>\n",
       "      <td>0.0</td>\n",
       "      <td>0.072215</td>\n",
       "      <td>0.307542</td>\n",
       "      <td>0.155054</td>\n",
       "      <td>0.333333</td>\n",
       "      <td>0.142857</td>\n",
       "      <td>0.5</td>\n",
       "      <td>0.735788</td>\n",
       "    </tr>\n",
       "    <tr>\n",
       "      <th>1</th>\n",
       "      <td>0.0</td>\n",
       "      <td>1.0</td>\n",
       "      <td>0.0</td>\n",
       "      <td>0.311736</td>\n",
       "      <td>0.271605</td>\n",
       "      <td>0.045016</td>\n",
       "      <td>0.477114</td>\n",
       "      <td>0.043648</td>\n",
       "      <td>0.951929</td>\n",
       "      <td>0.959566</td>\n",
       "      <td>...</td>\n",
       "      <td>0.0</td>\n",
       "      <td>0.0</td>\n",
       "      <td>0.0</td>\n",
       "      <td>0.312933</td>\n",
       "      <td>0.727773</td>\n",
       "      <td>0.569889</td>\n",
       "      <td>0.333333</td>\n",
       "      <td>0.285714</td>\n",
       "      <td>0.5</td>\n",
       "      <td>0.807083</td>\n",
       "    </tr>\n",
       "    <tr>\n",
       "      <th>2</th>\n",
       "      <td>0.0</td>\n",
       "      <td>0.0</td>\n",
       "      <td>0.5</td>\n",
       "      <td>0.022472</td>\n",
       "      <td>0.023569</td>\n",
       "      <td>0.134897</td>\n",
       "      <td>0.348534</td>\n",
       "      <td>0.046161</td>\n",
       "      <td>0.827335</td>\n",
       "      <td>0.648326</td>\n",
       "      <td>...</td>\n",
       "      <td>0.0</td>\n",
       "      <td>0.0</td>\n",
       "      <td>0.0</td>\n",
       "      <td>0.514238</td>\n",
       "      <td>0.650190</td>\n",
       "      <td>0.814130</td>\n",
       "      <td>0.000000</td>\n",
       "      <td>0.000000</td>\n",
       "      <td>0.0</td>\n",
       "      <td>0.810112</td>\n",
       "    </tr>\n",
       "    <tr>\n",
       "      <th>3</th>\n",
       "      <td>0.0</td>\n",
       "      <td>1.0</td>\n",
       "      <td>0.0</td>\n",
       "      <td>0.066837</td>\n",
       "      <td>0.063973</td>\n",
       "      <td>0.107023</td>\n",
       "      <td>0.350846</td>\n",
       "      <td>0.038817</td>\n",
       "      <td>0.601451</td>\n",
       "      <td>0.661387</td>\n",
       "      <td>...</td>\n",
       "      <td>0.0</td>\n",
       "      <td>0.0</td>\n",
       "      <td>0.0</td>\n",
       "      <td>0.514238</td>\n",
       "      <td>0.760751</td>\n",
       "      <td>0.569889</td>\n",
       "      <td>0.000000</td>\n",
       "      <td>0.000000</td>\n",
       "      <td>0.0</td>\n",
       "      <td>0.856244</td>\n",
       "    </tr>\n",
       "    <tr>\n",
       "      <th>4</th>\n",
       "      <td>0.0</td>\n",
       "      <td>1.0</td>\n",
       "      <td>0.5</td>\n",
       "      <td>0.116854</td>\n",
       "      <td>0.117845</td>\n",
       "      <td>0.392880</td>\n",
       "      <td>0.298591</td>\n",
       "      <td>0.038820</td>\n",
       "      <td>0.825268</td>\n",
       "      <td>0.519522</td>\n",
       "      <td>...</td>\n",
       "      <td>0.0</td>\n",
       "      <td>1.0</td>\n",
       "      <td>1.0</td>\n",
       "      <td>0.514238</td>\n",
       "      <td>0.377472</td>\n",
       "      <td>0.569889</td>\n",
       "      <td>0.000000</td>\n",
       "      <td>0.000000</td>\n",
       "      <td>0.0</td>\n",
       "      <td>0.742311</td>\n",
       "    </tr>\n",
       "  </tbody>\n",
       "</table>\n",
       "<p>5 rows × 23 columns</p>\n",
       "</div>"
      ],
      "text/plain": [
       "   default  contract_type  gender  loan_amount  product_amount  \\\n",
       "0      1.0            1.0     0.5     0.090287        0.077441   \n",
       "1      0.0            1.0     0.0     0.311736        0.271605   \n",
       "2      0.0            0.0     0.5     0.022472        0.023569   \n",
       "3      0.0            1.0     0.0     0.066837        0.063973   \n",
       "4      0.0            1.0     0.5     0.116854        0.117845   \n",
       "\n",
       "   normalised_pop       age  work_age  registry_age    id_age  ...  \\\n",
       "0        0.256321  0.888839  0.045086      0.852140  0.705433  ...   \n",
       "1        0.045016  0.477114  0.043648      0.951929  0.959566  ...   \n",
       "2        0.134897  0.348534  0.046161      0.827335  0.648326  ...   \n",
       "3        0.107023  0.350846  0.038817      0.601451  0.661387  ...   \n",
       "4        0.392880  0.298591  0.038820      0.825268  0.519522  ...   \n",
       "\n",
       "   flag_direperm_direcon_ciu  flag_direperm_diretra_ciu  \\\n",
       "0                        0.0                        0.0   \n",
       "1                        0.0                        0.0   \n",
       "2                        0.0                        0.0   \n",
       "3                        0.0                        0.0   \n",
       "4                        0.0                        1.0   \n",
       "\n",
       "   flag_direcon_diretra_ciu  external_score_1  external_score_2  \\\n",
       "0                       0.0          0.072215          0.307542   \n",
       "1                       0.0          0.312933          0.727773   \n",
       "2                       0.0          0.514238          0.650190   \n",
       "3                       0.0          0.514238          0.760751   \n",
       "4                       1.0          0.514238          0.377472   \n",
       "\n",
       "   external_score_3  type_building  wall_materials  emergency_exits  \\\n",
       "0          0.155054       0.333333        0.142857              0.5   \n",
       "1          0.569889       0.333333        0.285714              0.5   \n",
       "2          0.814130       0.000000        0.000000              0.0   \n",
       "3          0.569889       0.000000        0.000000              0.0   \n",
       "4          0.569889       0.000000        0.000000              0.0   \n",
       "\n",
       "   age_mobilephone_days  \n",
       "0              0.735788  \n",
       "1              0.807083  \n",
       "2              0.810112  \n",
       "3              0.856244  \n",
       "4              0.742311  \n",
       "\n",
       "[5 rows x 23 columns]"
      ]
     },
     "execution_count": 19,
     "metadata": {},
     "output_type": "execute_result"
    }
   ],
   "source": [
    "# Rescaling data\n",
    "from sklearn.preprocessing import MinMaxScaler\n",
    "scaler = MinMaxScaler()\n",
    "\n",
    "scaled = scaler.fit_transform(cdata)\n",
    "sdata = pd.DataFrame(scaled)\n",
    "sdata.columns = cdata.columns\n",
    "sdata.head(5)"
   ]
  },
  {
   "cell_type": "code",
   "execution_count": 20,
   "metadata": {},
   "outputs": [],
   "source": [
    "#sdata.to_csv('data/sdata.csv')"
   ]
  },
  {
   "cell_type": "code",
   "execution_count": 21,
   "metadata": {},
   "outputs": [],
   "source": [
    "#sdata = pd.read_csv('data/sdata.csv')\n",
    "#sdata = sdata.drop(sdata.columns[0], axis=1)"
   ]
  },
  {
   "attachments": {},
   "cell_type": "markdown",
   "metadata": {},
   "source": [
    "### Modeling and training"
   ]
  },
  {
   "cell_type": "code",
   "execution_count": 22,
   "metadata": {},
   "outputs": [],
   "source": [
    "# Libraries for importing the data and creating the Logistic Regression model\n",
    "from sklearn.model_selection import train_test_split"
   ]
  },
  {
   "cell_type": "code",
   "execution_count": 23,
   "metadata": {},
   "outputs": [],
   "source": [
    "#  Generating the data to separate the response variable from the original data\n",
    "X = sdata.drop(sdata.columns[0], axis=1)\n",
    "y = sdata.pop(sdata.columns[0])"
   ]
  },
  {
   "cell_type": "code",
   "execution_count": 24,
   "metadata": {},
   "outputs": [],
   "source": [
    "# Balancing the data to try improving the performance\n",
    "from imblearn.over_sampling import SMOTE\n",
    "over_sampler = SMOTE(random_state=42)\n",
    "X_res, y_res = over_sampler.fit_resample(X, y)\n"
   ]
  },
  {
   "cell_type": "code",
   "execution_count": 25,
   "metadata": {},
   "outputs": [],
   "source": [
    "# Separating data into training and test data\n",
    "X_train, X_test, y_train, y_test = train_test_split( X_res, y_res, test_size=0.3, random_state=42)"
   ]
  },
  {
   "cell_type": "code",
   "execution_count": null,
   "metadata": {},
   "outputs": [],
   "source": [
    "# from sklearn.decomposition import PCA\n",
    "# pca = PCA(n_components=10)\n",
    "# pca.fit(X_res)"
   ]
  },
  {
   "cell_type": "code",
   "execution_count": 27,
   "metadata": {},
   "outputs": [],
   "source": [
    "# X_rtrain = pca.transform(X_res)\n",
    "# X_rtest = pca.transform(X_test)"
   ]
  },
  {
   "attachments": {},
   "cell_type": "markdown",
   "metadata": {},
   "source": [
    "#### Metrics "
   ]
  },
  {
   "cell_type": "code",
   "execution_count": 30,
   "metadata": {},
   "outputs": [
    {
     "data": {
      "text/plain": [
       "0.6637561021625829"
      ]
     },
     "execution_count": 30,
     "metadata": {},
     "output_type": "execute_result"
    }
   ],
   "source": [
    "# Measuring the results\n",
    "from sklearn.metrics import confusion_matrix, accuracy_score, f1_score"
   ]
  },
  {
   "attachments": {},
   "cell_type": "markdown",
   "metadata": {},
   "source": [
    "#### DecisionTree"
   ]
  },
  {
   "cell_type": "code",
   "execution_count": 33,
   "metadata": {},
   "outputs": [],
   "source": [
    "from sklearn import tree\n",
    "tree_model = tree.DecisionTreeClassifier()"
   ]
  },
  {
   "cell_type": "code",
   "execution_count": 34,
   "metadata": {},
   "outputs": [
    {
     "data": {
      "text/html": [
       "<style>#sk-container-id-2 {color: black;background-color: white;}#sk-container-id-2 pre{padding: 0;}#sk-container-id-2 div.sk-toggleable {background-color: white;}#sk-container-id-2 label.sk-toggleable__label {cursor: pointer;display: block;width: 100%;margin-bottom: 0;padding: 0.3em;box-sizing: border-box;text-align: center;}#sk-container-id-2 label.sk-toggleable__label-arrow:before {content: \"▸\";float: left;margin-right: 0.25em;color: #696969;}#sk-container-id-2 label.sk-toggleable__label-arrow:hover:before {color: black;}#sk-container-id-2 div.sk-estimator:hover label.sk-toggleable__label-arrow:before {color: black;}#sk-container-id-2 div.sk-toggleable__content {max-height: 0;max-width: 0;overflow: hidden;text-align: left;background-color: #f0f8ff;}#sk-container-id-2 div.sk-toggleable__content pre {margin: 0.2em;color: black;border-radius: 0.25em;background-color: #f0f8ff;}#sk-container-id-2 input.sk-toggleable__control:checked~div.sk-toggleable__content {max-height: 200px;max-width: 100%;overflow: auto;}#sk-container-id-2 input.sk-toggleable__control:checked~label.sk-toggleable__label-arrow:before {content: \"▾\";}#sk-container-id-2 div.sk-estimator input.sk-toggleable__control:checked~label.sk-toggleable__label {background-color: #d4ebff;}#sk-container-id-2 div.sk-label input.sk-toggleable__control:checked~label.sk-toggleable__label {background-color: #d4ebff;}#sk-container-id-2 input.sk-hidden--visually {border: 0;clip: rect(1px 1px 1px 1px);clip: rect(1px, 1px, 1px, 1px);height: 1px;margin: -1px;overflow: hidden;padding: 0;position: absolute;width: 1px;}#sk-container-id-2 div.sk-estimator {font-family: monospace;background-color: #f0f8ff;border: 1px dotted black;border-radius: 0.25em;box-sizing: border-box;margin-bottom: 0.5em;}#sk-container-id-2 div.sk-estimator:hover {background-color: #d4ebff;}#sk-container-id-2 div.sk-parallel-item::after {content: \"\";width: 100%;border-bottom: 1px solid gray;flex-grow: 1;}#sk-container-id-2 div.sk-label:hover label.sk-toggleable__label {background-color: #d4ebff;}#sk-container-id-2 div.sk-serial::before {content: \"\";position: absolute;border-left: 1px solid gray;box-sizing: border-box;top: 0;bottom: 0;left: 50%;z-index: 0;}#sk-container-id-2 div.sk-serial {display: flex;flex-direction: column;align-items: center;background-color: white;padding-right: 0.2em;padding-left: 0.2em;position: relative;}#sk-container-id-2 div.sk-item {position: relative;z-index: 1;}#sk-container-id-2 div.sk-parallel {display: flex;align-items: stretch;justify-content: center;background-color: white;position: relative;}#sk-container-id-2 div.sk-item::before, #sk-container-id-2 div.sk-parallel-item::before {content: \"\";position: absolute;border-left: 1px solid gray;box-sizing: border-box;top: 0;bottom: 0;left: 50%;z-index: -1;}#sk-container-id-2 div.sk-parallel-item {display: flex;flex-direction: column;z-index: 1;position: relative;background-color: white;}#sk-container-id-2 div.sk-parallel-item:first-child::after {align-self: flex-end;width: 50%;}#sk-container-id-2 div.sk-parallel-item:last-child::after {align-self: flex-start;width: 50%;}#sk-container-id-2 div.sk-parallel-item:only-child::after {width: 0;}#sk-container-id-2 div.sk-dashed-wrapped {border: 1px dashed gray;margin: 0 0.4em 0.5em 0.4em;box-sizing: border-box;padding-bottom: 0.4em;background-color: white;}#sk-container-id-2 div.sk-label label {font-family: monospace;font-weight: bold;display: inline-block;line-height: 1.2em;}#sk-container-id-2 div.sk-label-container {text-align: center;}#sk-container-id-2 div.sk-container {/* jupyter's `normalize.less` sets `[hidden] { display: none; }` but bootstrap.min.css set `[hidden] { display: none !important; }` so we also need the `!important` here to be able to override the default hidden behavior on the sphinx rendered scikit-learn.org. See: https://github.com/scikit-learn/scikit-learn/issues/21755 */display: inline-block !important;position: relative;}#sk-container-id-2 div.sk-text-repr-fallback {display: none;}</style><div id=\"sk-container-id-2\" class=\"sk-top-container\"><div class=\"sk-text-repr-fallback\"><pre>DecisionTreeClassifier()</pre><b>In a Jupyter environment, please rerun this cell to show the HTML representation or trust the notebook. <br />On GitHub, the HTML representation is unable to render, please try loading this page with nbviewer.org.</b></div><div class=\"sk-container\" hidden><div class=\"sk-item\"><div class=\"sk-estimator sk-toggleable\"><input class=\"sk-toggleable__control sk-hidden--visually\" id=\"sk-estimator-id-2\" type=\"checkbox\" checked><label for=\"sk-estimator-id-2\" class=\"sk-toggleable__label sk-toggleable__label-arrow\">DecisionTreeClassifier</label><div class=\"sk-toggleable__content\"><pre>DecisionTreeClassifier()</pre></div></div></div></div></div>"
      ],
      "text/plain": [
       "DecisionTreeClassifier()"
      ]
     },
     "execution_count": 34,
     "metadata": {},
     "output_type": "execute_result"
    }
   ],
   "source": [
    "tree_model.fit(X_train, y_res)"
   ]
  },
  {
   "cell_type": "code",
   "execution_count": 35,
   "metadata": {},
   "outputs": [],
   "source": [
    "y_tree = tree_model.predict(X_test)"
   ]
  },
  {
   "cell_type": "code",
   "execution_count": 36,
   "metadata": {},
   "outputs": [
    {
     "name": "stdout",
     "output_type": "stream",
     "text": [
      "1.0\n"
     ]
    }
   ],
   "source": [
    "accuracy_score(y_test, y_tree)\n"
   ]
  },
  {
   "cell_type": "code",
   "execution_count": 37,
   "metadata": {},
   "outputs": [
    {
     "data": {
      "text/plain": [
       "array([[84845,     0],\n",
       "       [    0, 84767]])"
      ]
     },
     "execution_count": 37,
     "metadata": {},
     "output_type": "execute_result"
    }
   ],
   "source": [
    "confusion_matrix(y_test, y_tree)"
   ]
  },
  {
   "attachments": {},
   "cell_type": "markdown",
   "metadata": {},
   "source": [
    "### Testing other algoritms"
   ]
  },
  {
   "attachments": {},
   "cell_type": "markdown",
   "metadata": {},
   "source": [
    "#### Random forest"
   ]
  },
  {
   "cell_type": "code",
   "execution_count": 38,
   "metadata": {},
   "outputs": [],
   "source": [
    "from sklearn.ensemble import RandomForestClassifier\n",
    "rf_model = RandomForestClassifier(max_depth=2, random_state=0)"
   ]
  },
  {
   "cell_type": "code",
   "execution_count": 39,
   "metadata": {},
   "outputs": [
    {
     "data": {
      "text/html": [
       "<style>#sk-container-id-3 {color: black;background-color: white;}#sk-container-id-3 pre{padding: 0;}#sk-container-id-3 div.sk-toggleable {background-color: white;}#sk-container-id-3 label.sk-toggleable__label {cursor: pointer;display: block;width: 100%;margin-bottom: 0;padding: 0.3em;box-sizing: border-box;text-align: center;}#sk-container-id-3 label.sk-toggleable__label-arrow:before {content: \"▸\";float: left;margin-right: 0.25em;color: #696969;}#sk-container-id-3 label.sk-toggleable__label-arrow:hover:before {color: black;}#sk-container-id-3 div.sk-estimator:hover label.sk-toggleable__label-arrow:before {color: black;}#sk-container-id-3 div.sk-toggleable__content {max-height: 0;max-width: 0;overflow: hidden;text-align: left;background-color: #f0f8ff;}#sk-container-id-3 div.sk-toggleable__content pre {margin: 0.2em;color: black;border-radius: 0.25em;background-color: #f0f8ff;}#sk-container-id-3 input.sk-toggleable__control:checked~div.sk-toggleable__content {max-height: 200px;max-width: 100%;overflow: auto;}#sk-container-id-3 input.sk-toggleable__control:checked~label.sk-toggleable__label-arrow:before {content: \"▾\";}#sk-container-id-3 div.sk-estimator input.sk-toggleable__control:checked~label.sk-toggleable__label {background-color: #d4ebff;}#sk-container-id-3 div.sk-label input.sk-toggleable__control:checked~label.sk-toggleable__label {background-color: #d4ebff;}#sk-container-id-3 input.sk-hidden--visually {border: 0;clip: rect(1px 1px 1px 1px);clip: rect(1px, 1px, 1px, 1px);height: 1px;margin: -1px;overflow: hidden;padding: 0;position: absolute;width: 1px;}#sk-container-id-3 div.sk-estimator {font-family: monospace;background-color: #f0f8ff;border: 1px dotted black;border-radius: 0.25em;box-sizing: border-box;margin-bottom: 0.5em;}#sk-container-id-3 div.sk-estimator:hover {background-color: #d4ebff;}#sk-container-id-3 div.sk-parallel-item::after {content: \"\";width: 100%;border-bottom: 1px solid gray;flex-grow: 1;}#sk-container-id-3 div.sk-label:hover label.sk-toggleable__label {background-color: #d4ebff;}#sk-container-id-3 div.sk-serial::before {content: \"\";position: absolute;border-left: 1px solid gray;box-sizing: border-box;top: 0;bottom: 0;left: 50%;z-index: 0;}#sk-container-id-3 div.sk-serial {display: flex;flex-direction: column;align-items: center;background-color: white;padding-right: 0.2em;padding-left: 0.2em;position: relative;}#sk-container-id-3 div.sk-item {position: relative;z-index: 1;}#sk-container-id-3 div.sk-parallel {display: flex;align-items: stretch;justify-content: center;background-color: white;position: relative;}#sk-container-id-3 div.sk-item::before, #sk-container-id-3 div.sk-parallel-item::before {content: \"\";position: absolute;border-left: 1px solid gray;box-sizing: border-box;top: 0;bottom: 0;left: 50%;z-index: -1;}#sk-container-id-3 div.sk-parallel-item {display: flex;flex-direction: column;z-index: 1;position: relative;background-color: white;}#sk-container-id-3 div.sk-parallel-item:first-child::after {align-self: flex-end;width: 50%;}#sk-container-id-3 div.sk-parallel-item:last-child::after {align-self: flex-start;width: 50%;}#sk-container-id-3 div.sk-parallel-item:only-child::after {width: 0;}#sk-container-id-3 div.sk-dashed-wrapped {border: 1px dashed gray;margin: 0 0.4em 0.5em 0.4em;box-sizing: border-box;padding-bottom: 0.4em;background-color: white;}#sk-container-id-3 div.sk-label label {font-family: monospace;font-weight: bold;display: inline-block;line-height: 1.2em;}#sk-container-id-3 div.sk-label-container {text-align: center;}#sk-container-id-3 div.sk-container {/* jupyter's `normalize.less` sets `[hidden] { display: none; }` but bootstrap.min.css set `[hidden] { display: none !important; }` so we also need the `!important` here to be able to override the default hidden behavior on the sphinx rendered scikit-learn.org. See: https://github.com/scikit-learn/scikit-learn/issues/21755 */display: inline-block !important;position: relative;}#sk-container-id-3 div.sk-text-repr-fallback {display: none;}</style><div id=\"sk-container-id-3\" class=\"sk-top-container\"><div class=\"sk-text-repr-fallback\"><pre>RandomForestClassifier(max_depth=2, random_state=0)</pre><b>In a Jupyter environment, please rerun this cell to show the HTML representation or trust the notebook. <br />On GitHub, the HTML representation is unable to render, please try loading this page with nbviewer.org.</b></div><div class=\"sk-container\" hidden><div class=\"sk-item\"><div class=\"sk-estimator sk-toggleable\"><input class=\"sk-toggleable__control sk-hidden--visually\" id=\"sk-estimator-id-3\" type=\"checkbox\" checked><label for=\"sk-estimator-id-3\" class=\"sk-toggleable__label sk-toggleable__label-arrow\">RandomForestClassifier</label><div class=\"sk-toggleable__content\"><pre>RandomForestClassifier(max_depth=2, random_state=0)</pre></div></div></div></div></div>"
      ],
      "text/plain": [
       "RandomForestClassifier(max_depth=2, random_state=0)"
      ]
     },
     "execution_count": 39,
     "metadata": {},
     "output_type": "execute_result"
    }
   ],
   "source": [
    "rf_model.fit(X_res, y_res)"
   ]
  },
  {
   "cell_type": "code",
   "execution_count": 40,
   "metadata": {},
   "outputs": [],
   "source": [
    "y_rf =rf_model.predict(X_test)"
   ]
  },
  {
   "cell_type": "code",
   "execution_count": 41,
   "metadata": {},
   "outputs": [
    {
     "name": "stdout",
     "output_type": "stream",
     "text": [
      "0.6868558828384784\n"
     ]
    }
   ],
   "source": [
    "score = accuracy_score(y_test, y_rf)\n",
    "print(score)"
   ]
  },
  {
   "cell_type": "code",
   "execution_count": 42,
   "metadata": {},
   "outputs": [
    {
     "data": {
      "text/plain": [
       "array([[55270, 29575],\n",
       "       [23538, 61229]])"
      ]
     },
     "execution_count": 42,
     "metadata": {},
     "output_type": "execute_result"
    }
   ],
   "source": [
    "confusion_matrix(y_test,y_rf)"
   ]
  },
  {
   "attachments": {},
   "cell_type": "markdown",
   "metadata": {},
   "source": [
    "### XGBoost"
   ]
  },
  {
   "cell_type": "code",
   "execution_count": 43,
   "metadata": {},
   "outputs": [],
   "source": [
    "from xgboost import XGBClassifier\n",
    "xgb_model = XGBClassifier()"
   ]
  },
  {
   "cell_type": "code",
   "execution_count": 44,
   "metadata": {},
   "outputs": [
    {
     "data": {
      "text/html": [
       "<style>#sk-container-id-4 {color: black;background-color: white;}#sk-container-id-4 pre{padding: 0;}#sk-container-id-4 div.sk-toggleable {background-color: white;}#sk-container-id-4 label.sk-toggleable__label {cursor: pointer;display: block;width: 100%;margin-bottom: 0;padding: 0.3em;box-sizing: border-box;text-align: center;}#sk-container-id-4 label.sk-toggleable__label-arrow:before {content: \"▸\";float: left;margin-right: 0.25em;color: #696969;}#sk-container-id-4 label.sk-toggleable__label-arrow:hover:before {color: black;}#sk-container-id-4 div.sk-estimator:hover label.sk-toggleable__label-arrow:before {color: black;}#sk-container-id-4 div.sk-toggleable__content {max-height: 0;max-width: 0;overflow: hidden;text-align: left;background-color: #f0f8ff;}#sk-container-id-4 div.sk-toggleable__content pre {margin: 0.2em;color: black;border-radius: 0.25em;background-color: #f0f8ff;}#sk-container-id-4 input.sk-toggleable__control:checked~div.sk-toggleable__content {max-height: 200px;max-width: 100%;overflow: auto;}#sk-container-id-4 input.sk-toggleable__control:checked~label.sk-toggleable__label-arrow:before {content: \"▾\";}#sk-container-id-4 div.sk-estimator input.sk-toggleable__control:checked~label.sk-toggleable__label {background-color: #d4ebff;}#sk-container-id-4 div.sk-label input.sk-toggleable__control:checked~label.sk-toggleable__label {background-color: #d4ebff;}#sk-container-id-4 input.sk-hidden--visually {border: 0;clip: rect(1px 1px 1px 1px);clip: rect(1px, 1px, 1px, 1px);height: 1px;margin: -1px;overflow: hidden;padding: 0;position: absolute;width: 1px;}#sk-container-id-4 div.sk-estimator {font-family: monospace;background-color: #f0f8ff;border: 1px dotted black;border-radius: 0.25em;box-sizing: border-box;margin-bottom: 0.5em;}#sk-container-id-4 div.sk-estimator:hover {background-color: #d4ebff;}#sk-container-id-4 div.sk-parallel-item::after {content: \"\";width: 100%;border-bottom: 1px solid gray;flex-grow: 1;}#sk-container-id-4 div.sk-label:hover label.sk-toggleable__label {background-color: #d4ebff;}#sk-container-id-4 div.sk-serial::before {content: \"\";position: absolute;border-left: 1px solid gray;box-sizing: border-box;top: 0;bottom: 0;left: 50%;z-index: 0;}#sk-container-id-4 div.sk-serial {display: flex;flex-direction: column;align-items: center;background-color: white;padding-right: 0.2em;padding-left: 0.2em;position: relative;}#sk-container-id-4 div.sk-item {position: relative;z-index: 1;}#sk-container-id-4 div.sk-parallel {display: flex;align-items: stretch;justify-content: center;background-color: white;position: relative;}#sk-container-id-4 div.sk-item::before, #sk-container-id-4 div.sk-parallel-item::before {content: \"\";position: absolute;border-left: 1px solid gray;box-sizing: border-box;top: 0;bottom: 0;left: 50%;z-index: -1;}#sk-container-id-4 div.sk-parallel-item {display: flex;flex-direction: column;z-index: 1;position: relative;background-color: white;}#sk-container-id-4 div.sk-parallel-item:first-child::after {align-self: flex-end;width: 50%;}#sk-container-id-4 div.sk-parallel-item:last-child::after {align-self: flex-start;width: 50%;}#sk-container-id-4 div.sk-parallel-item:only-child::after {width: 0;}#sk-container-id-4 div.sk-dashed-wrapped {border: 1px dashed gray;margin: 0 0.4em 0.5em 0.4em;box-sizing: border-box;padding-bottom: 0.4em;background-color: white;}#sk-container-id-4 div.sk-label label {font-family: monospace;font-weight: bold;display: inline-block;line-height: 1.2em;}#sk-container-id-4 div.sk-label-container {text-align: center;}#sk-container-id-4 div.sk-container {/* jupyter's `normalize.less` sets `[hidden] { display: none; }` but bootstrap.min.css set `[hidden] { display: none !important; }` so we also need the `!important` here to be able to override the default hidden behavior on the sphinx rendered scikit-learn.org. See: https://github.com/scikit-learn/scikit-learn/issues/21755 */display: inline-block !important;position: relative;}#sk-container-id-4 div.sk-text-repr-fallback {display: none;}</style><div id=\"sk-container-id-4\" class=\"sk-top-container\"><div class=\"sk-text-repr-fallback\"><pre>XGBClassifier(base_score=None, booster=None, callbacks=None,\n",
       "              colsample_bylevel=None, colsample_bynode=None,\n",
       "              colsample_bytree=None, early_stopping_rounds=None,\n",
       "              enable_categorical=False, eval_metric=None, feature_types=None,\n",
       "              gamma=None, gpu_id=None, grow_policy=None, importance_type=None,\n",
       "              interaction_constraints=None, learning_rate=None, max_bin=None,\n",
       "              max_cat_threshold=None, max_cat_to_onehot=None,\n",
       "              max_delta_step=None, max_depth=None, max_leaves=None,\n",
       "              min_child_weight=None, missing=nan, monotone_constraints=None,\n",
       "              n_estimators=100, n_jobs=None, num_parallel_tree=None,\n",
       "              predictor=None, random_state=None, ...)</pre><b>In a Jupyter environment, please rerun this cell to show the HTML representation or trust the notebook. <br />On GitHub, the HTML representation is unable to render, please try loading this page with nbviewer.org.</b></div><div class=\"sk-container\" hidden><div class=\"sk-item\"><div class=\"sk-estimator sk-toggleable\"><input class=\"sk-toggleable__control sk-hidden--visually\" id=\"sk-estimator-id-4\" type=\"checkbox\" checked><label for=\"sk-estimator-id-4\" class=\"sk-toggleable__label sk-toggleable__label-arrow\">XGBClassifier</label><div class=\"sk-toggleable__content\"><pre>XGBClassifier(base_score=None, booster=None, callbacks=None,\n",
       "              colsample_bylevel=None, colsample_bynode=None,\n",
       "              colsample_bytree=None, early_stopping_rounds=None,\n",
       "              enable_categorical=False, eval_metric=None, feature_types=None,\n",
       "              gamma=None, gpu_id=None, grow_policy=None, importance_type=None,\n",
       "              interaction_constraints=None, learning_rate=None, max_bin=None,\n",
       "              max_cat_threshold=None, max_cat_to_onehot=None,\n",
       "              max_delta_step=None, max_depth=None, max_leaves=None,\n",
       "              min_child_weight=None, missing=nan, monotone_constraints=None,\n",
       "              n_estimators=100, n_jobs=None, num_parallel_tree=None,\n",
       "              predictor=None, random_state=None, ...)</pre></div></div></div></div></div>"
      ],
      "text/plain": [
       "XGBClassifier(base_score=None, booster=None, callbacks=None,\n",
       "              colsample_bylevel=None, colsample_bynode=None,\n",
       "              colsample_bytree=None, early_stopping_rounds=None,\n",
       "              enable_categorical=False, eval_metric=None, feature_types=None,\n",
       "              gamma=None, gpu_id=None, grow_policy=None, importance_type=None,\n",
       "              interaction_constraints=None, learning_rate=None, max_bin=None,\n",
       "              max_cat_threshold=None, max_cat_to_onehot=None,\n",
       "              max_delta_step=None, max_depth=None, max_leaves=None,\n",
       "              min_child_weight=None, missing=nan, monotone_constraints=None,\n",
       "              n_estimators=100, n_jobs=None, num_parallel_tree=None,\n",
       "              predictor=None, random_state=None, ...)"
      ]
     },
     "execution_count": 44,
     "metadata": {},
     "output_type": "execute_result"
    }
   ],
   "source": [
    "xgb_model.fit(X_train, y_train)"
   ]
  },
  {
   "cell_type": "code",
   "execution_count": 45,
   "metadata": {},
   "outputs": [],
   "source": [
    "y_xgb = xgb_model.predict(X_test)"
   ]
  },
  {
   "cell_type": "code",
   "execution_count": 46,
   "metadata": {},
   "outputs": [
    {
     "name": "stdout",
     "output_type": "stream",
     "text": [
      "0.925535929061623\n"
     ]
    }
   ],
   "source": [
    "score = accuracy_score(y_test, y_xgb)\n",
    "print(score)"
   ]
  },
  {
   "cell_type": "code",
   "execution_count": 47,
   "metadata": {},
   "outputs": [
    {
     "data": {
      "text/plain": [
       "array([[81735,  3110],\n",
       "       [ 9520, 75247]])"
      ]
     },
     "execution_count": 47,
     "metadata": {},
     "output_type": "execute_result"
    }
   ],
   "source": [
    "confusion_matrix(y_test,y_xgb)"
   ]
  },
  {
   "cell_type": "code",
   "execution_count": 48,
   "metadata": {},
   "outputs": [
    {
     "data": {
      "text/plain": [
       "0.9225742380029917"
      ]
     },
     "execution_count": 48,
     "metadata": {},
     "output_type": "execute_result"
    }
   ],
   "source": [
    "f1_score(y_test, y_xgb)"
   ]
  },
  {
   "attachments": {},
   "cell_type": "markdown",
   "metadata": {},
   "source": [
    "#### ExtraTrees"
   ]
  },
  {
   "cell_type": "code",
   "execution_count": 49,
   "metadata": {},
   "outputs": [],
   "source": [
    "from sklearn.ensemble import ExtraTreesClassifier\n",
    "et_model = ExtraTreesClassifier()"
   ]
  },
  {
   "cell_type": "code",
   "execution_count": 50,
   "metadata": {},
   "outputs": [
    {
     "data": {
      "text/html": [
       "<style>#sk-container-id-5 {color: black;background-color: white;}#sk-container-id-5 pre{padding: 0;}#sk-container-id-5 div.sk-toggleable {background-color: white;}#sk-container-id-5 label.sk-toggleable__label {cursor: pointer;display: block;width: 100%;margin-bottom: 0;padding: 0.3em;box-sizing: border-box;text-align: center;}#sk-container-id-5 label.sk-toggleable__label-arrow:before {content: \"▸\";float: left;margin-right: 0.25em;color: #696969;}#sk-container-id-5 label.sk-toggleable__label-arrow:hover:before {color: black;}#sk-container-id-5 div.sk-estimator:hover label.sk-toggleable__label-arrow:before {color: black;}#sk-container-id-5 div.sk-toggleable__content {max-height: 0;max-width: 0;overflow: hidden;text-align: left;background-color: #f0f8ff;}#sk-container-id-5 div.sk-toggleable__content pre {margin: 0.2em;color: black;border-radius: 0.25em;background-color: #f0f8ff;}#sk-container-id-5 input.sk-toggleable__control:checked~div.sk-toggleable__content {max-height: 200px;max-width: 100%;overflow: auto;}#sk-container-id-5 input.sk-toggleable__control:checked~label.sk-toggleable__label-arrow:before {content: \"▾\";}#sk-container-id-5 div.sk-estimator input.sk-toggleable__control:checked~label.sk-toggleable__label {background-color: #d4ebff;}#sk-container-id-5 div.sk-label input.sk-toggleable__control:checked~label.sk-toggleable__label {background-color: #d4ebff;}#sk-container-id-5 input.sk-hidden--visually {border: 0;clip: rect(1px 1px 1px 1px);clip: rect(1px, 1px, 1px, 1px);height: 1px;margin: -1px;overflow: hidden;padding: 0;position: absolute;width: 1px;}#sk-container-id-5 div.sk-estimator {font-family: monospace;background-color: #f0f8ff;border: 1px dotted black;border-radius: 0.25em;box-sizing: border-box;margin-bottom: 0.5em;}#sk-container-id-5 div.sk-estimator:hover {background-color: #d4ebff;}#sk-container-id-5 div.sk-parallel-item::after {content: \"\";width: 100%;border-bottom: 1px solid gray;flex-grow: 1;}#sk-container-id-5 div.sk-label:hover label.sk-toggleable__label {background-color: #d4ebff;}#sk-container-id-5 div.sk-serial::before {content: \"\";position: absolute;border-left: 1px solid gray;box-sizing: border-box;top: 0;bottom: 0;left: 50%;z-index: 0;}#sk-container-id-5 div.sk-serial {display: flex;flex-direction: column;align-items: center;background-color: white;padding-right: 0.2em;padding-left: 0.2em;position: relative;}#sk-container-id-5 div.sk-item {position: relative;z-index: 1;}#sk-container-id-5 div.sk-parallel {display: flex;align-items: stretch;justify-content: center;background-color: white;position: relative;}#sk-container-id-5 div.sk-item::before, #sk-container-id-5 div.sk-parallel-item::before {content: \"\";position: absolute;border-left: 1px solid gray;box-sizing: border-box;top: 0;bottom: 0;left: 50%;z-index: -1;}#sk-container-id-5 div.sk-parallel-item {display: flex;flex-direction: column;z-index: 1;position: relative;background-color: white;}#sk-container-id-5 div.sk-parallel-item:first-child::after {align-self: flex-end;width: 50%;}#sk-container-id-5 div.sk-parallel-item:last-child::after {align-self: flex-start;width: 50%;}#sk-container-id-5 div.sk-parallel-item:only-child::after {width: 0;}#sk-container-id-5 div.sk-dashed-wrapped {border: 1px dashed gray;margin: 0 0.4em 0.5em 0.4em;box-sizing: border-box;padding-bottom: 0.4em;background-color: white;}#sk-container-id-5 div.sk-label label {font-family: monospace;font-weight: bold;display: inline-block;line-height: 1.2em;}#sk-container-id-5 div.sk-label-container {text-align: center;}#sk-container-id-5 div.sk-container {/* jupyter's `normalize.less` sets `[hidden] { display: none; }` but bootstrap.min.css set `[hidden] { display: none !important; }` so we also need the `!important` here to be able to override the default hidden behavior on the sphinx rendered scikit-learn.org. See: https://github.com/scikit-learn/scikit-learn/issues/21755 */display: inline-block !important;position: relative;}#sk-container-id-5 div.sk-text-repr-fallback {display: none;}</style><div id=\"sk-container-id-5\" class=\"sk-top-container\"><div class=\"sk-text-repr-fallback\"><pre>ExtraTreesClassifier()</pre><b>In a Jupyter environment, please rerun this cell to show the HTML representation or trust the notebook. <br />On GitHub, the HTML representation is unable to render, please try loading this page with nbviewer.org.</b></div><div class=\"sk-container\" hidden><div class=\"sk-item\"><div class=\"sk-estimator sk-toggleable\"><input class=\"sk-toggleable__control sk-hidden--visually\" id=\"sk-estimator-id-5\" type=\"checkbox\" checked><label for=\"sk-estimator-id-5\" class=\"sk-toggleable__label sk-toggleable__label-arrow\">ExtraTreesClassifier</label><div class=\"sk-toggleable__content\"><pre>ExtraTreesClassifier()</pre></div></div></div></div></div>"
      ],
      "text/plain": [
       "ExtraTreesClassifier()"
      ]
     },
     "execution_count": 50,
     "metadata": {},
     "output_type": "execute_result"
    }
   ],
   "source": [
    "et_model.fit(X_train, y_train)"
   ]
  },
  {
   "cell_type": "code",
   "execution_count": 51,
   "metadata": {},
   "outputs": [],
   "source": [
    "y_et = et_model.predict(X_test)"
   ]
  },
  {
   "cell_type": "code",
   "execution_count": 52,
   "metadata": {},
   "outputs": [
    {
     "name": "stdout",
     "output_type": "stream",
     "text": [
      "0.9443671438341626\n"
     ]
    }
   ],
   "source": [
    "score = accuracy_score(y_test, y_et)\n",
    "print(score)"
   ]
  },
  {
   "cell_type": "code",
   "execution_count": 53,
   "metadata": {},
   "outputs": [
    {
     "data": {
      "text/plain": [
       "array([[78547,  6298],\n",
       "       [ 3138, 81629]])"
      ]
     },
     "execution_count": 53,
     "metadata": {},
     "output_type": "execute_result"
    }
   ],
   "source": [
    "confusion_matrix(y_test,y_et)"
   ]
  },
  {
   "cell_type": "code",
   "execution_count": 54,
   "metadata": {},
   "outputs": [
    {
     "data": {
      "text/plain": [
       "0.9453600009264943"
      ]
     },
     "execution_count": 54,
     "metadata": {},
     "output_type": "execute_result"
    }
   ],
   "source": [
    "f1_score(y_test, y_et)"
   ]
  },
  {
   "cell_type": "code",
   "execution_count": 55,
   "metadata": {},
   "outputs": [
    {
     "ename": "",
     "evalue": "",
     "output_type": "error",
     "traceback": [
      "\u001b[1;31mCanceled future for execute_request message before replies were done"
     ]
    },
    {
     "ename": "",
     "evalue": "",
     "output_type": "error",
     "traceback": [
      "\u001b[1;31mThe Kernel crashed while executing code in the the current cell or a previous cell. Please review the code in the cell(s) to identify a possible cause of the failure. Click <a href='https://aka.ms/vscodeJupyterKernelCrash'>here</a> for more info. View Jupyter <a href='command:jupyter.viewOutput'>log</a> for further details."
     ]
    }
   ],
   "source": [
    "# Saving binaries for the reusing of the model, the equivalence of categorical variables, and the model features \n",
    "\n",
    "import pickle\n",
    "pickle.dump(et_model, open(\"models/model.pk\", \"wb\"))\n",
    "pickle.dump(ce, open(\"models/column_equivalence.pk\", \"wb\"))\n",
    "pickle.dump(features, open(\"models/features.pk\", \"wb\"))"
   ]
  }
 ],
 "metadata": {
  "kernelspec": {
   "display_name": "venv",
   "language": "python",
   "name": "python3"
  },
  "language_info": {
   "codemirror_mode": {
    "name": "ipython",
    "version": 3
   },
   "file_extension": ".py",
   "mimetype": "text/x-python",
   "name": "python",
   "nbconvert_exporter": "python",
   "pygments_lexer": "ipython3",
   "version": "3.10.6"
  },
  "orig_nbformat": 4,
  "vscode": {
   "interpreter": {
    "hash": "847db9db9818100aff0bb8bd303d3d79b05c7f78882f2591761ab5de2fe752d4"
   }
  }
 },
 "nbformat": 4,
 "nbformat_minor": 2
}
