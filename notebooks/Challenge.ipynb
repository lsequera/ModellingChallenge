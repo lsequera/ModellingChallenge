{
 "cells": [
  {
   "attachments": {},
   "cell_type": "markdown",
   "metadata": {},
   "source": [
    "## Challenge (Modelling)"
   ]
  },
  {
   "cell_type": "code",
   "execution_count": 3,
   "metadata": {},
   "outputs": [],
   "source": [
    "# Libraries for path management and data analysis\n",
    "import os\n",
    "import pandas as pd"
   ]
  },
  {
   "cell_type": "code",
   "execution_count": 1,
   "metadata": {},
   "outputs": [],
   "source": [
    "# Going to the rrot of the project\n",
    "os.chdir('..')"
   ]
  },
  {
   "cell_type": "code",
   "execution_count": 4,
   "metadata": {},
   "outputs": [
    {
     "name": "stderr",
     "output_type": "stream",
     "text": [
      "/tmp/ipykernel_20098/851070366.py:1: DtypeWarning: Columns (20) have mixed types. Specify dtype option on import or set low_memory=False.\n",
      "  data = pd.read_csv('data/application_info.csv')\n"
     ]
    }
   ],
   "source": [
    "data = pd.read_csv('data/application_info.csv')"
   ]
  },
  {
   "cell_type": "code",
   "execution_count": 5,
   "metadata": {},
   "outputs": [
    {
     "name": "stdout",
     "output_type": "stream",
     "text": [
      "<class 'pandas.core.frame.DataFrame'>\n",
      "RangeIndex: 307511 entries, 0 to 307510\n",
      "Data columns (total 98 columns):\n",
      " #   Column                     Non-Null Count   Dtype  \n",
      "---  ------                     --------------   -----  \n",
      " 0   Unnamed: 0                 307511 non-null  int64  \n",
      " 1   id                         307511 non-null  int64  \n",
      " 2   default                    307511 non-null  int64  \n",
      " 3   contract_type              307511 non-null  object \n",
      " 4   gender                     307511 non-null  object \n",
      " 5   flag_vehicle               307511 non-null  object \n",
      " 6   flag_properties            307511 non-null  object \n",
      " 7   num_children               307511 non-null  int64  \n",
      " 8   total_income               307511 non-null  object \n",
      " 9   loan_amount                307511 non-null  object \n",
      " 10  anual_payment              307499 non-null  object \n",
      " 11  product_amount             307233 non-null  object \n",
      " 12  accompained                306219 non-null  object \n",
      " 13  income_type                307511 non-null  object \n",
      " 14  education                  0 non-null       float64\n",
      " 15  marital_status             307511 non-null  object \n",
      " 16  residence_type             0 non-null       float64\n",
      " 17  normalised_pop             307511 non-null  object \n",
      " 18  age                        307511 non-null  int64  \n",
      " 19  work_age                   307511 non-null  int64  \n",
      " 20  registry_age               307511 non-null  object \n",
      " 21  id_age                     307511 non-null  int64  \n",
      " 22  vehicle_age                104582 non-null  float64\n",
      " 23  flag_cellphone             307511 non-null  int64  \n",
      " 24  flag_work_phone            307511 non-null  int64  \n",
      " 25  flag_work_company          307511 non-null  int64  \n",
      " 26  flag_cellphone_answer      307511 non-null  int64  \n",
      " 27  flag_homephone             307511 non-null  int64  \n",
      " 28  flag_email                 307511 non-null  int64  \n",
      " 29  occupation                 211120 non-null  object \n",
      " 30  family_num                 307509 non-null  float64\n",
      " 31  region_score               307511 non-null  int64  \n",
      " 32  region_city_score          307511 non-null  int64  \n",
      " 33  dayofweek_application      307511 non-null  object \n",
      " 34  hour_application           307511 non-null  int64  \n",
      " 35  flag_direperm_direcon_reg  307511 non-null  int64  \n",
      " 36  flag_direperm_diretra_reg  307511 non-null  int64  \n",
      " 37  flag_direcon_diretra_reg   307511 non-null  int64  \n",
      " 38  flag_direperm_direcon_ciu  307511 non-null  int64  \n",
      " 39  flag_direperm_diretra_ciu  307511 non-null  int64  \n",
      " 40  flag_direcon_diretra_ciu   307511 non-null  int64  \n",
      " 41  type_organisation          307511 non-null  object \n",
      " 42  external_score_1           134133 non-null  object \n",
      " 43  external_score_2           306851 non-null  object \n",
      " 44  external_score_3           246546 non-null  object \n",
      " 45  num_apart_average          151450 non-null  object \n",
      " 46  area_basement_average      127568 non-null  object \n",
      " 47  age_expl_average           157504 non-null  object \n",
      " 48  age_building_average       103023 non-null  object \n",
      " 49  area_common_average        92646 non-null   object \n",
      " 50  num_lifts_average          143620 non-null  object \n",
      " 51  num_entries_average        152683 non-null  object \n",
      " 52  max_floor_average          154491 non-null  object \n",
      " 53  min_floor_average          98869 non-null   object \n",
      " 54  area_building_average      124921 non-null  object \n",
      " 55  num_apart_habit_average    97312 non-null   object \n",
      " 56  area_habit_average         153161 non-null  object \n",
      " 57  num_apart_nohabit_average  93997 non-null   object \n",
      " 58  area_nohabit_average       137829 non-null  object \n",
      " 59  num_apart_mode             151450 non-null  object \n",
      " 60  area_basement_mode         127568 non-null  object \n",
      " 61  age_expl_mode              157504 non-null  object \n",
      " 62  age_building_mode          103023 non-null  object \n",
      " 63  area_common_mode           92646 non-null   object \n",
      " 64  num_lifts_mode             143620 non-null  object \n",
      " 65  num_entries_mode           152683 non-null  object \n",
      " 66  max_floor_mode             154491 non-null  object \n",
      " 67  min_floor_mode             98869 non-null   object \n",
      " 68  area_building_mode         124921 non-null  object \n",
      " 69  num_apart_habit_mode       97312 non-null   object \n",
      " 70  area_habit_mode            153161 non-null  object \n",
      " 71  num_apart_nohabit_mode     93997 non-null   object \n",
      " 72  area_nohabit_mode          137829 non-null  object \n",
      " 73  num_apart_median           151450 non-null  object \n",
      " 74  area_basement_median       127568 non-null  object \n",
      " 75  age_expl_median            157504 non-null  object \n",
      " 76  age_building_median        103023 non-null  object \n",
      " 77  area_common_median         92646 non-null   object \n",
      " 78  num_lifts_median           143620 non-null  object \n",
      " 79  num_entries_median         152683 non-null  object \n",
      " 80  max_floor_median           154491 non-null  object \n",
      " 81  min_floor_median           98869 non-null   object \n",
      " 82  area_building_median       124921 non-null  object \n",
      " 83  num_apart_habit_median     97312 non-null   object \n",
      " 84  area_habit_median          153161 non-null  object \n",
      " 85  num_apart_nohabit_median   93997 non-null   object \n",
      " 86  area_nohabit_median        137829 non-null  object \n",
      " 87  type_building              153214 non-null  object \n",
      " 88  total_area                 159080 non-null  object \n",
      " 89  wall_materials             151170 non-null  object \n",
      " 90  emergency_exits            161756 non-null  object \n",
      " 91  age_mobilephone_days       307510 non-null  float64\n",
      " 92  num_petic_bureau_hour      265992 non-null  float64\n",
      " 93  num_petic_bureau_day       265992 non-null  float64\n",
      " 94  num_petic_bureau_week      265992 non-null  float64\n",
      " 95  num_petic_bureau_month     265992 non-null  float64\n",
      " 96  num_petic_bureau_quarter   265992 non-null  float64\n",
      " 97  num_petic_bureau_year      265992 non-null  float64\n",
      "dtypes: float64(11), int64(22), object(65)\n",
      "memory usage: 229.9+ MB\n"
     ]
    }
   ],
   "source": [
    "data.info()"
   ]
  }
 ],
 "metadata": {
  "kernelspec": {
   "display_name": "venv",
   "language": "python",
   "name": "python3"
  },
  "language_info": {
   "codemirror_mode": {
    "name": "ipython",
    "version": 3
   },
   "file_extension": ".py",
   "mimetype": "text/x-python",
   "name": "python",
   "nbconvert_exporter": "python",
   "pygments_lexer": "ipython3",
   "version": "3.10.6"
  },
  "orig_nbformat": 4,
  "vscode": {
   "interpreter": {
    "hash": "847db9db9818100aff0bb8bd303d3d79b05c7f78882f2591761ab5de2fe752d4"
   }
  }
 },
 "nbformat": 4,
 "nbformat_minor": 2
}
